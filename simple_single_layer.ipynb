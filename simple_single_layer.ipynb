{
  "nbformat": 4,
  "nbformat_minor": 0,
  "metadata": {
    "colab": {
      "name": "simple_single_layer.ipynb",
      "provenance": [],
      "collapsed_sections": []
    },
    "kernelspec": {
      "name": "python3",
      "display_name": "Python 3"
    },
    "accelerator": "GPU"
  },
  "cells": [
    {
      "cell_type": "code",
      "metadata": {
        "id": "5-pNrLewPyk1",
        "colab_type": "code",
        "outputId": "6ca20841-cadb-4197-eb6e-179e9dd68762",
        "colab": {
          "base_uri": "https://localhost:8080/",
          "height": 126
        }
      },
      "source": [
        "from google.colab import drive\n",
        "drive.mount('/content/drive')\n"
      ],
      "execution_count": 0,
      "outputs": [
        {
          "output_type": "stream",
          "text": [
            "Go to this URL in a browser: https://accounts.google.com/o/oauth2/auth?client_id=947318989803-6bn6qk8qdgf4n4g3pfee6491hc0brc4i.apps.googleusercontent.com&redirect_uri=urn%3Aietf%3Awg%3Aoauth%3A2.0%3Aoob&scope=email%20https%3A%2F%2Fwww.googleapis.com%2Fauth%2Fdocs.test%20https%3A%2F%2Fwww.googleapis.com%2Fauth%2Fdrive%20https%3A%2F%2Fwww.googleapis.com%2Fauth%2Fdrive.photos.readonly%20https%3A%2F%2Fwww.googleapis.com%2Fauth%2Fpeopleapi.readonly&response_type=code\n",
            "\n",
            "Enter your authorization code:\n",
            "··········\n",
            "Mounted at /content/drive\n"
          ],
          "name": "stdout"
        }
      ]
    },
    {
      "cell_type": "code",
      "metadata": {
        "id": "G3w0M2VbQDPS",
        "colab_type": "code",
        "colab": {}
      },
      "source": [
        "# This Python 3 environment comes with many helpful analytics libraries installed\n",
        "# It is defined by the kaggle/python docker image: https://github.com/kaggle/docker-python\n",
        "# For example, here's several helpful packages to load in \n",
        "\n",
        "import numpy as np # linear algebra\n",
        "import pandas as pd # data processing, CSV file I/O (e.g. pd.read_csv)\n",
        "\n",
        "import matplotlib.pyplot as plt\n",
        "%matplotlib inline\n",
        "\n",
        "from keras.models import Sequential\n",
        "from keras.layers import Dense , Dropout , Lambda, Flatten\n",
        "from keras.optimizers import Adam ,RMSprop\n",
        "from sklearn.model_selection import train_test_split\n",
        "from keras import  backend as K\n",
        "from keras.preprocessing.image import ImageDataGenerator\n",
        "import keras"
      ],
      "execution_count": 0,
      "outputs": []
    },
    {
      "cell_type": "code",
      "metadata": {
        "id": "NH3B1CouQiUa",
        "colab_type": "code",
        "colab": {}
      },
      "source": [
        "from keras.datasets import mnist\n",
        " \n",
        "(x_train, y_train), (x_test, y_test) = mnist.load_data()"
      ],
      "execution_count": 0,
      "outputs": []
    },
    {
      "cell_type": "code",
      "metadata": {
        "id": "NGXgAJ_yzeCK",
        "colab_type": "code",
        "outputId": "bef51fac-5b60-4f1f-a1b5-f828b63b183e",
        "colab": {
          "base_uri": "https://localhost:8080/",
          "height": 71
        }
      },
      "source": [
        "x_train = x_train.reshape(60000, 784)\n",
        "x_test = x_test.reshape(10000, 784)\n",
        "x_train = x_train.astype('float32')\n",
        "x_test = x_test.astype('float32')\n",
        "x_train /= 255\n",
        "x_test /= 255\n",
        "print(x_train.shape)\n",
        "print(x_train.shape[0], 'train samples')\n",
        "print(x_test.shape[0], 'test samples')"
      ],
      "execution_count": 27,
      "outputs": [
        {
          "output_type": "stream",
          "text": [
            "(60000, 784)\n",
            "60000 train samples\n",
            "10000 test samples\n"
          ],
          "name": "stdout"
        }
      ]
    },
    {
      "cell_type": "code",
      "metadata": {
        "id": "y9Zv9N6p0Zpf",
        "colab_type": "code",
        "colab": {}
      },
      "source": [
        "\n",
        "y_train = keras.utils.to_categorical(y_train, 10)\n",
        "y_test = keras.utils.to_categorical(y_test, 10)\n"
      ],
      "execution_count": 0,
      "outputs": []
    },
    {
      "cell_type": "code",
      "metadata": {
        "id": "inko9_U_RtYd",
        "colab_type": "code",
        "colab": {}
      },
      "source": [
        "from keras.models import  Sequential\n",
        "from keras.layers.core import  Lambda , Dense, Flatten, Dropout\n",
        "from keras.callbacks import EarlyStopping\n",
        "from keras.layers import BatchNormalization, Convolution2D , MaxPooling2D"
      ],
      "execution_count": 0,
      "outputs": []
    },
    {
      "cell_type": "code",
      "metadata": {
        "id": "4QrKvg2ERAZO",
        "colab_type": "code",
        "colab": {}
      },
      "source": [
        "# fix random seed for reproducibility\n",
        "seed = 43\n",
        "np.random.seed(seed)"
      ],
      "execution_count": 0,
      "outputs": []
    },
    {
      "cell_type": "code",
      "metadata": {
        "id": "qHodfIgHR0yr",
        "colab_type": "code",
        "outputId": "c12d1f8a-31a0-40b3-eb3b-d352f2df2e3e",
        "colab": {
          "base_uri": "https://localhost:8080/",
          "height": 53
        }
      },
      "source": [
        "model= Sequential()\n",
        "# model.add(Lambda(standardize,input_shape=(28,28,1)))\n",
        "# model.add(Flatten())\n",
        "model.add(Dense(10, activation='softmax',input_shape=(784,)))\n",
        "print(\"input shape \",model.input_shape)\n",
        "print(\"output shape \",model.output_shape)"
      ],
      "execution_count": 31,
      "outputs": [
        {
          "output_type": "stream",
          "text": [
            "input shape  (None, 784)\n",
            "output shape  (None, 10)\n"
          ],
          "name": "stdout"
        }
      ]
    },
    {
      "cell_type": "code",
      "metadata": {
        "id": "JvK0cuAXZeSV",
        "colab_type": "code",
        "colab": {}
      },
      "source": [
        "from keras.optimizers import RMSprop\n",
        "model.compile(optimizer=RMSprop(lr=0.001),\n",
        " loss='categorical_crossentropy',\n",
        " metrics=['accuracy'])"
      ],
      "execution_count": 0,
      "outputs": []
    },
    {
      "cell_type": "code",
      "metadata": {
        "id": "ZqXIUGJdaV0H",
        "colab_type": "code",
        "colab": {
          "base_uri": "https://localhost:8080/",
          "height": 859
        },
        "outputId": "5314e2a2-1c46-439c-bad7-5dabd663ba20"
      },
      "source": [
        "history=model.fit(x_train, y_train,\n",
        "                            batch_size = 128,\n",
        "                            epochs=20, \n",
        "                            verbose=1,\n",
        "                            validation_data=(x_test, y_test))\n"
      ],
      "execution_count": 33,
      "outputs": [
        {
          "output_type": "stream",
          "text": [
            "WARNING:tensorflow:From /usr/local/lib/python3.6/dist-packages/tensorflow/python/ops/math_grad.py:1250: add_dispatch_support.<locals>.wrapper (from tensorflow.python.ops.array_ops) is deprecated and will be removed in a future version.\n",
            "Instructions for updating:\n",
            "Use tf.where in 2.0, which has the same broadcast rule as np.where\n",
            "WARNING:tensorflow:From /usr/local/lib/python3.6/dist-packages/keras/backend/tensorflow_backend.py:1033: The name tf.assign_add is deprecated. Please use tf.compat.v1.assign_add instead.\n",
            "\n",
            "Train on 60000 samples, validate on 10000 samples\n",
            "Epoch 1/20\n",
            "60000/60000 [==============================] - 7s 109us/step - loss: 0.5951 - acc: 0.8528 - val_loss: 0.3421 - val_acc: 0.9092\n",
            "Epoch 2/20\n",
            "60000/60000 [==============================] - 2s 35us/step - loss: 0.3305 - acc: 0.9088 - val_loss: 0.3003 - val_acc: 0.9174\n",
            "Epoch 3/20\n",
            "60000/60000 [==============================] - 2s 35us/step - loss: 0.3016 - acc: 0.9160 - val_loss: 0.2863 - val_acc: 0.9204\n",
            "Epoch 4/20\n",
            "60000/60000 [==============================] - 2s 35us/step - loss: 0.2882 - acc: 0.9198 - val_loss: 0.2772 - val_acc: 0.9233\n",
            "Epoch 5/20\n",
            "60000/60000 [==============================] - 2s 34us/step - loss: 0.2801 - acc: 0.9220 - val_loss: 0.2749 - val_acc: 0.9239\n",
            "Epoch 6/20\n",
            "60000/60000 [==============================] - 2s 34us/step - loss: 0.2747 - acc: 0.9238 - val_loss: 0.2711 - val_acc: 0.9256\n",
            "Epoch 7/20\n",
            "60000/60000 [==============================] - 2s 36us/step - loss: 0.2708 - acc: 0.9252 - val_loss: 0.2717 - val_acc: 0.9258\n",
            "Epoch 8/20\n",
            "60000/60000 [==============================] - 2s 35us/step - loss: 0.2673 - acc: 0.9262 - val_loss: 0.2716 - val_acc: 0.9250\n",
            "Epoch 9/20\n",
            "60000/60000 [==============================] - 2s 34us/step - loss: 0.2648 - acc: 0.9271 - val_loss: 0.2692 - val_acc: 0.9255\n",
            "Epoch 10/20\n",
            "60000/60000 [==============================] - 2s 34us/step - loss: 0.2626 - acc: 0.9277 - val_loss: 0.2695 - val_acc: 0.9252\n",
            "Epoch 11/20\n",
            "60000/60000 [==============================] - 2s 35us/step - loss: 0.2609 - acc: 0.9287 - val_loss: 0.2693 - val_acc: 0.9263\n",
            "Epoch 12/20\n",
            "60000/60000 [==============================] - 2s 36us/step - loss: 0.2594 - acc: 0.9293 - val_loss: 0.2699 - val_acc: 0.9256\n",
            "Epoch 13/20\n",
            "60000/60000 [==============================] - 2s 36us/step - loss: 0.2581 - acc: 0.9292 - val_loss: 0.2666 - val_acc: 0.9276\n",
            "Epoch 14/20\n",
            "60000/60000 [==============================] - 2s 36us/step - loss: 0.2568 - acc: 0.9297 - val_loss: 0.2680 - val_acc: 0.9282\n",
            "Epoch 15/20\n",
            "60000/60000 [==============================] - 2s 38us/step - loss: 0.2559 - acc: 0.9305 - val_loss: 0.2690 - val_acc: 0.9271\n",
            "Epoch 16/20\n",
            "60000/60000 [==============================] - 2s 35us/step - loss: 0.2548 - acc: 0.9305 - val_loss: 0.2684 - val_acc: 0.9274\n",
            "Epoch 17/20\n",
            "60000/60000 [==============================] - 2s 34us/step - loss: 0.2541 - acc: 0.9315 - val_loss: 0.2684 - val_acc: 0.9271\n",
            "Epoch 18/20\n",
            "60000/60000 [==============================] - 2s 34us/step - loss: 0.2533 - acc: 0.9312 - val_loss: 0.2695 - val_acc: 0.9269\n",
            "Epoch 19/20\n",
            "60000/60000 [==============================] - 2s 34us/step - loss: 0.2526 - acc: 0.9318 - val_loss: 0.2683 - val_acc: 0.9275\n",
            "Epoch 20/20\n",
            "60000/60000 [==============================] - 2s 34us/step - loss: 0.2522 - acc: 0.9320 - val_loss: 0.2695 - val_acc: 0.9272\n"
          ],
          "name": "stdout"
        }
      ]
    },
    {
      "cell_type": "code",
      "metadata": {
        "id": "Iu7vhKBZadDm",
        "colab_type": "code",
        "colab": {
          "base_uri": "https://localhost:8080/",
          "height": 53
        },
        "outputId": "4a98841b-d4b3-4c15-c803-d994c9053ec1"
      },
      "source": [
        "score = model.evaluate(x_test, y_test, verbose=0)\n",
        "print('Test loss:', score[0])\n",
        "print('Test accuracy:', score[1])"
      ],
      "execution_count": 34,
      "outputs": [
        {
          "output_type": "stream",
          "text": [
            "Test loss: 0.2695062840357423\n",
            "Test accuracy: 0.9272\n"
          ],
          "name": "stdout"
        }
      ]
    },
    {
      "cell_type": "code",
      "metadata": {
        "id": "QfObXP89aiED",
        "colab_type": "code",
        "colab": {
          "base_uri": "https://localhost:8080/",
          "height": 321
        },
        "outputId": "907a94d8-f3b0-454c-e80d-d014c83a4a99"
      },
      "source": [
        "for layer in model.layers:\n",
        "  print(\"New Layer\")\n",
        "  weights = layer.get_weights()\n",
        "  print(len(weights[0]))\n",
        "  print(weights)"
      ],
      "execution_count": 35,
      "outputs": [
        {
          "output_type": "stream",
          "text": [
            "New Layer\n",
            "784\n",
            "[array([[-0.04758791, -0.05172199, -0.05912098, ...,  0.07636552,\n",
            "        -0.0322607 ,  0.00518532],\n",
            "       [ 0.00287635,  0.03465529, -0.00027248, ...,  0.01215127,\n",
            "         0.07500025,  0.06801967],\n",
            "       [-0.02724347,  0.04797293,  0.05986697, ...,  0.00172494,\n",
            "         0.00638644, -0.06139679],\n",
            "       ...,\n",
            "       [ 0.02639159, -0.04471556, -0.05086884, ...,  0.04736552,\n",
            "         0.01486592, -0.04305205],\n",
            "       [ 0.00533868, -0.04413825,  0.0744805 , ..., -0.01398792,\n",
            "        -0.0083269 , -0.03099357],\n",
            "       [ 0.06033085,  0.05010531,  0.05278369, ...,  0.03397392,\n",
            "        -0.06670264, -0.0615502 ]], dtype=float32), array([-0.6172773 ,  0.60538334,  0.16480379, -0.36937097,  0.08922081,\n",
            "        1.4099236 , -0.25964567,  0.67325217, -1.4444191 , -0.35068285],\n",
            "      dtype=float32)]\n"
          ],
          "name": "stdout"
        }
      ]
    }
  ]
}