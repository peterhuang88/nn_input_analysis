{
  "nbformat": 4,
  "nbformat_minor": 0,
  "metadata": {
    "colab": {
      "name": "simple_multilayer_model.ipynb",
      "provenance": [],
      "collapsed_sections": []
    },
    "kernelspec": {
      "name": "python3",
      "display_name": "Python 3"
    },
    "accelerator": "GPU"
  },
  "cells": [
    {
      "cell_type": "code",
      "metadata": {
        "id": "pf6XKOz7KDwy",
        "colab_type": "code",
        "outputId": "eea60f4e-de87-4478-8566-3f9b56027dcf",
        "colab": {
          "base_uri": "https://localhost:8080/",
          "height": 34
        }
      },
      "source": [
        "from google.colab import drive\n",
        "\n",
        "drive.mount('/content/drive')"
      ],
      "execution_count": 3,
      "outputs": [
        {
          "output_type": "stream",
          "text": [
            "Drive already mounted at /content/drive; to attempt to forcibly remount, call drive.mount(\"/content/drive\", force_remount=True).\n"
          ],
          "name": "stdout"
        }
      ]
    },
    {
      "cell_type": "markdown",
      "metadata": {
        "id": "QDDoK8dIO97s",
        "colab_type": "text"
      },
      "source": [
        "## Imports"
      ]
    },
    {
      "cell_type": "code",
      "metadata": {
        "id": "uWo-Yw7cKOqv",
        "colab_type": "code",
        "colab": {
          "base_uri": "https://localhost:8080/",
          "height": 34
        },
        "outputId": "0b57af20-0526-426f-da60-ac41eee4d933"
      },
      "source": [
        "from keras.datasets import mnist\n",
        "import matplotlib.pyplot as plt\n",
        "import numpy as np\n",
        "\n",
        "\n",
        "from keras.models import  Sequential\n",
        "from keras.layers.core import  Lambda , Dense, Flatten, Dropout\n",
        "from keras.callbacks import EarlyStopping\n",
        "from keras.layers import BatchNormalization, Convolution2D , MaxPooling2D\n",
        "import keras\n"
      ],
      "execution_count": 4,
      "outputs": [
        {
          "output_type": "stream",
          "text": [
            "Using TensorFlow backend.\n"
          ],
          "name": "stderr"
        }
      ]
    },
    {
      "cell_type": "markdown",
      "metadata": {
        "id": "9Hl7bHL0Q3fE",
        "colab_type": "text"
      },
      "source": [
        "## Get MNIST data from Keras"
      ]
    },
    {
      "cell_type": "code",
      "metadata": {
        "id": "vJwutWKBQ2nS",
        "colab_type": "code",
        "colab": {
          "base_uri": "https://localhost:8080/",
          "height": 51
        },
        "outputId": "a1ab5649-6a6b-41e9-896d-fed6b9151130"
      },
      "source": [
        "(x_train, y_train), (x_test, y_test) = mnist.load_data()"
      ],
      "execution_count": 5,
      "outputs": [
        {
          "output_type": "stream",
          "text": [
            "Downloading data from https://s3.amazonaws.com/img-datasets/mnist.npz\n",
            "11493376/11490434 [==============================] - 1s 0us/step\n"
          ],
          "name": "stdout"
        }
      ]
    },
    {
      "cell_type": "markdown",
      "metadata": {
        "id": "vdQCA0s5PDa1",
        "colab_type": "text"
      },
      "source": [
        "## Small Data Exploration"
      ]
    },
    {
      "cell_type": "code",
      "metadata": {
        "id": "bbSgPzgBKfa3",
        "colab_type": "code",
        "outputId": "b765f96b-fd5d-4b92-c957-bbbc206e8d19",
        "colab": {
          "base_uri": "https://localhost:8080/",
          "height": 354
        }
      },
      "source": [
        "print(len(x_train))\n",
        "print(len(x_test))\n",
        "print(x_train.shape)\n",
        "test_img =  x_train[0]\n",
        "print(y_train[0])\n",
        "plt.imshow(test_img)"
      ],
      "execution_count": 6,
      "outputs": [
        {
          "output_type": "stream",
          "text": [
            "60000\n",
            "10000\n",
            "(60000, 28, 28)\n",
            "5\n"
          ],
          "name": "stdout"
        },
        {
          "output_type": "execute_result",
          "data": {
            "text/plain": [
              "<matplotlib.image.AxesImage at 0x7fb9e4a55b00>"
            ]
          },
          "metadata": {
            "tags": []
          },
          "execution_count": 6
        },
        {
          "output_type": "display_data",
          "data": {
            "image/png": "[encoded data removed]",
            "text/plain": [
              "<Figure size 432x288 with 1 Axes>"
            ]
          },
          "metadata": {
            "tags": []
          }
        }
      ]
    },
    {
      "cell_type": "markdown",
      "metadata": {
        "id": "fEv32oWtPKi-",
        "colab_type": "text"
      },
      "source": [
        "## Standardize and Convert to 1-hot"
      ]
    },
    {
      "cell_type": "code",
      "metadata": {
        "id": "eYGFAp1xKpNM",
        "colab_type": "code",
        "outputId": "ebf1f152-527a-4e87-f440-021d2512ba70",
        "colab": {
          "base_uri": "https://localhost:8080/",
          "height": 68
        }
      },
      "source": [
        "x_train = x_train.reshape(60000, 784)\n",
        "x_test = x_test.reshape(10000, 784)\n",
        "x_train = x_train.astype('float32')\n",
        "x_test = x_test.astype('float32')\n",
        "x_train /= 255\n",
        "x_test /= 255\n",
        "print(x_train.shape)\n",
        "print(x_train.shape[0], 'train samples')\n",
        "print(x_test.shape[0], 'test samples')\n",
        "\n"
      ],
      "execution_count": 7,
      "outputs": [
        {
          "output_type": "stream",
          "text": [
            "(60000, 784)\n",
            "60000 train samples\n",
            "10000 test samples\n"
          ],
          "name": "stdout"
        }
      ]
    },
    {
      "cell_type": "markdown",
      "metadata": {
        "id": "hCFJFY1LCsm_",
        "colab_type": "text"
      },
      "source": [
        "## Convert Class labels to Binary Class matrices"
      ]
    },
    {
      "cell_type": "code",
      "metadata": {
        "id": "U1LzF9UfCvb_",
        "colab_type": "code",
        "colab": {}
      },
      "source": [
        "y_train = keras.utils.to_categorical(y_train, 10)\n",
        "y_test = keras.utils.to_categorical(y_test, 10)"
      ],
      "execution_count": 0,
      "outputs": []
    },
    {
      "cell_type": "markdown",
      "metadata": {
        "id": "eKQaxrJSRU5E",
        "colab_type": "text"
      },
      "source": [
        "## It's model time!\n",
        "\n"
      ]
    },
    {
      "cell_type": "code",
      "metadata": {
        "id": "mgaaSA-XOhy8",
        "colab_type": "code",
        "outputId": "01be046f-10ed-423c-ea66-dbdc77e31992",
        "colab": {
          "base_uri": "https://localhost:8080/",
          "height": 173
        }
      },
      "source": [
        "model= Sequential()\n",
        "model.add(Dense(28, activation=\"relu\",input_shape=(784,)))\n",
        "# model.add(Lambda(standardize,input_shape=(784,)))\n",
        "# model.add(Flatten())\n",
        "# model.add(Dense(28, activation=\"relu\"))\n",
        "model.add(Dense(10, activation='softmax'))\n",
        "print(\"input shape \",model.input_shape)\n",
        "print(\"output shape \",model.output_shape)"
      ],
      "execution_count": 10,
      "outputs": [
        {
          "output_type": "stream",
          "text": [
            "WARNING:tensorflow:From /usr/local/lib/python3.6/dist-packages/keras/backend/tensorflow_backend.py:66: The name tf.get_default_graph is deprecated. Please use tf.compat.v1.get_default_graph instead.\n",
            "\n",
            "WARNING:tensorflow:From /usr/local/lib/python3.6/dist-packages/keras/backend/tensorflow_backend.py:541: The name tf.placeholder is deprecated. Please use tf.compat.v1.placeholder instead.\n",
            "\n",
            "WARNING:tensorflow:From /usr/local/lib/python3.6/dist-packages/keras/backend/tensorflow_backend.py:4432: The name tf.random_uniform is deprecated. Please use tf.random.uniform instead.\n",
            "\n",
            "input shape  (None, 784)\n",
            "output shape  (None, 10)\n"
          ],
          "name": "stdout"
        }
      ]
    },
    {
      "cell_type": "markdown",
      "metadata": {
        "id": "eVEYU9IL8w_o",
        "colab_type": "text"
      },
      "source": [
        "## Compile the Network"
      ]
    },
    {
      "cell_type": "code",
      "metadata": {
        "id": "YSptlR1R8eVZ",
        "colab_type": "code",
        "colab": {
          "base_uri": "https://localhost:8080/",
          "height": 105
        },
        "outputId": "86b77477-530b-441e-881a-95de6ce05ece"
      },
      "source": [
        "from keras.optimizers import RMSprop\n",
        "model.compile(optimizer=RMSprop(lr=0.001),\n",
        " loss='categorical_crossentropy',\n",
        " metrics=['accuracy'])"
      ],
      "execution_count": 11,
      "outputs": [
        {
          "output_type": "stream",
          "text": [
            "WARNING:tensorflow:From /usr/local/lib/python3.6/dist-packages/keras/optimizers.py:793: The name tf.train.Optimizer is deprecated. Please use tf.compat.v1.train.Optimizer instead.\n",
            "\n",
            "WARNING:tensorflow:From /usr/local/lib/python3.6/dist-packages/keras/backend/tensorflow_backend.py:3576: The name tf.log is deprecated. Please use tf.math.log instead.\n",
            "\n"
          ],
          "name": "stdout"
        }
      ]
    },
    {
      "cell_type": "markdown",
      "metadata": {
        "id": "iRrpk2e48-0H",
        "colab_type": "text"
      },
      "source": [
        "## Cross Validation"
      ]
    },
    {
      "cell_type": "code",
      "metadata": {
        "id": "EhK5hyyn8-iP",
        "colab_type": "code",
        "outputId": "0cabbe8e-0c09-4121-a367-744ca882af29",
        "colab": {
          "base_uri": "https://localhost:8080/",
          "height": 54
        }
      },
      "source": [
        "\"\"\"\n",
        "from sklearn.model_selection import train_test_split\n",
        "x = x_train\n",
        "y = y_train\n",
        "x_train, x_val, y_train, y_val = train_test_split(x_train, y_train, test_size=0.10, random_state=42)\n",
        "batches = gen.flow(x_train, y_train, batch_size=64)\n",
        "val_batches = gen.flow(x_val, y_val, batch_size=64)\n",
        "\"\"\""
      ],
      "execution_count": 12,
      "outputs": [
        {
          "output_type": "execute_result",
          "data": {
            "text/plain": [
              "'\\nfrom sklearn.model_selection import train_test_split\\nx = x_train\\ny = y_train\\nx_train, x_val, y_train, y_val = train_test_split(x_train, y_train, test_size=0.10, random_state=42)\\nbatches = gen.flow(x_train, y_train, batch_size=64)\\nval_batches = gen.flow(x_val, y_val, batch_size=64)\\n'"
            ]
          },
          "metadata": {
            "tags": []
          },
          "execution_count": 12
        }
      ]
    },
    {
      "cell_type": "code",
      "metadata": {
        "id": "DE7uF33n86YR",
        "colab_type": "code",
        "outputId": "66ea7c7d-a507-40c0-a5d1-3aad57e26b76",
        "colab": {
          "base_uri": "https://localhost:8080/",
          "height": 819
        }
      },
      "source": [
        "history=model.fit(x_train, y_train,\n",
        "                            batch_size = 128,\n",
        "                            epochs=20, \n",
        "                            verbose=1,\n",
        "                            validation_data=(x_test, y_test))"
      ],
      "execution_count": 13,
      "outputs": [
        {
          "output_type": "stream",
          "text": [
            "WARNING:tensorflow:From /usr/local/lib/python3.6/dist-packages/tensorflow/python/ops/math_grad.py:1250: add_dispatch_support.<locals>.wrapper (from tensorflow.python.ops.array_ops) is deprecated and will be removed in a future version.\n",
            "Instructions for updating:\n",
            "Use tf.where in 2.0, which has the same broadcast rule as np.where\n",
            "WARNING:tensorflow:From /usr/local/lib/python3.6/dist-packages/keras/backend/tensorflow_backend.py:1033: The name tf.assign_add is deprecated. Please use tf.compat.v1.assign_add instead.\n",
            "\n",
            "Train on 60000 samples, validate on 10000 samples\n",
            "Epoch 1/20\n",
            "60000/60000 [==============================] - 7s 110us/step - loss: 0.4839 - acc: 0.8704 - val_loss: 0.2741 - val_acc: 0.9232\n",
            "Epoch 2/20\n",
            "60000/60000 [==============================] - 2s 37us/step - loss: 0.2547 - acc: 0.9271 - val_loss: 0.2229 - val_acc: 0.9350\n",
            "Epoch 3/20\n",
            "60000/60000 [==============================] - 2s 35us/step - loss: 0.2133 - acc: 0.9391 - val_loss: 0.1997 - val_acc: 0.9414\n",
            "Epoch 4/20\n",
            "60000/60000 [==============================] - 2s 35us/step - loss: 0.1872 - acc: 0.9465 - val_loss: 0.1768 - val_acc: 0.9479\n",
            "Epoch 5/20\n",
            "60000/60000 [==============================] - 2s 36us/step - loss: 0.1682 - acc: 0.9512 - val_loss: 0.1693 - val_acc: 0.9484\n",
            "Epoch 6/20\n",
            "60000/60000 [==============================] - 2s 37us/step - loss: 0.1542 - acc: 0.9549 - val_loss: 0.1574 - val_acc: 0.9517\n",
            "Epoch 7/20\n",
            "60000/60000 [==============================] - 2s 36us/step - loss: 0.1431 - acc: 0.9585 - val_loss: 0.1525 - val_acc: 0.9540\n",
            "Epoch 8/20\n",
            "60000/60000 [==============================] - 2s 36us/step - loss: 0.1335 - acc: 0.9608 - val_loss: 0.1481 - val_acc: 0.9556\n",
            "Epoch 9/20\n",
            "60000/60000 [==============================] - 2s 36us/step - loss: 0.1257 - acc: 0.9631 - val_loss: 0.1420 - val_acc: 0.9568\n",
            "Epoch 10/20\n",
            "60000/60000 [==============================] - 2s 36us/step - loss: 0.1186 - acc: 0.9655 - val_loss: 0.1378 - val_acc: 0.9595\n",
            "Epoch 11/20\n",
            "60000/60000 [==============================] - 2s 36us/step - loss: 0.1131 - acc: 0.9670 - val_loss: 0.1375 - val_acc: 0.9586\n",
            "Epoch 12/20\n",
            "60000/60000 [==============================] - 2s 36us/step - loss: 0.1077 - acc: 0.9689 - val_loss: 0.1292 - val_acc: 0.9615\n",
            "Epoch 13/20\n",
            "60000/60000 [==============================] - 2s 36us/step - loss: 0.1033 - acc: 0.9701 - val_loss: 0.1268 - val_acc: 0.9628\n",
            "Epoch 14/20\n",
            "60000/60000 [==============================] - 2s 35us/step - loss: 0.0991 - acc: 0.9703 - val_loss: 0.1293 - val_acc: 0.9609\n",
            "Epoch 15/20\n",
            "60000/60000 [==============================] - 2s 36us/step - loss: 0.0953 - acc: 0.9719 - val_loss: 0.1249 - val_acc: 0.9636\n",
            "Epoch 16/20\n",
            "60000/60000 [==============================] - 2s 37us/step - loss: 0.0917 - acc: 0.9731 - val_loss: 0.1275 - val_acc: 0.9639\n",
            "Epoch 17/20\n",
            "60000/60000 [==============================] - 2s 37us/step - loss: 0.0882 - acc: 0.9737 - val_loss: 0.1335 - val_acc: 0.9611\n",
            "Epoch 18/20\n",
            "60000/60000 [==============================] - 2s 36us/step - loss: 0.0854 - acc: 0.9752 - val_loss: 0.1277 - val_acc: 0.9634\n",
            "Epoch 19/20\n",
            "60000/60000 [==============================] - 2s 36us/step - loss: 0.0822 - acc: 0.9756 - val_loss: 0.1271 - val_acc: 0.9632\n",
            "Epoch 20/20\n",
            "60000/60000 [==============================] - 2s 35us/step - loss: 0.0801 - acc: 0.9763 - val_loss: 0.1263 - val_acc: 0.9645\n"
          ],
          "name": "stdout"
        }
      ]
    },
    {
      "cell_type": "markdown",
      "metadata": {
        "id": "56jknrbEEoFz",
        "colab_type": "text"
      },
      "source": [
        "## Print out accuracy"
      ]
    },
    {
      "cell_type": "code",
      "metadata": {
        "id": "D0z3ciFEBfJZ",
        "colab_type": "code",
        "outputId": "ea1f1ca7-7ff8-4a3b-c807-10a1a5bde5db",
        "colab": {
          "base_uri": "https://localhost:8080/",
          "height": 51
        }
      },
      "source": [
        "score = model.evaluate(x_test, y_test, verbose=0)\n",
        "print('Test loss:', score[0])\n",
        "print('Test accuracy:', score[1])"
      ],
      "execution_count": 14,
      "outputs": [
        {
          "output_type": "stream",
          "text": [
            "Test loss: 0.12631193027729168\n",
            "Test accuracy: 0.9645\n"
          ],
          "name": "stdout"
        }
      ]
    },
    {
      "cell_type": "markdown",
      "metadata": {
        "id": "Szk8H_hX1Ay0",
        "colab_type": "text"
      },
      "source": [
        "## Extract Weights from Model"
      ]
    },
    {
      "cell_type": "code",
      "metadata": {
        "id": "z7GWaPeJDwYY",
        "colab_type": "code",
        "colab": {
          "base_uri": "https://localhost:8080/",
          "height": 1000
        },
        "outputId": "168d027b-282f-44fc-944b-7f4cb47228c6"
      },
      "source": [
        "for layer in model.layers:\n",
        "  print(\"New Layer\")\n",
        "  weights = layer.get_weights()\n",
        "  print(len(weights[0]))\n",
        "  print(weights)\n",
        "  "
      ],
      "execution_count": 21,
      "outputs": [
        {
          "output_type": "stream",
          "text": [
            "New Layer\n",
            "28\n",
            "[array([[ 0.00811724, -0.0660417 , -0.03121311, ..., -0.06119183,\n",
            "         0.02138732,  0.04636846],\n",
            "       [ 0.00080603, -0.08097325,  0.01814843, ...,  0.06717563,\n",
            "         0.03208562, -0.04713417],\n",
            "       [ 0.00639779,  0.00326794,  0.02192379, ...,  0.00445774,\n",
            "        -0.04055637, -0.0554894 ],\n",
            "       ...,\n",
            "       [ 0.04121898, -0.03609722, -0.08430067, ...,  0.08522221,\n",
            "        -0.005996  ,  0.0787482 ],\n",
            "       [ 0.04304844,  0.06275865, -0.03810265, ...,  0.00327195,\n",
            "        -0.04173088,  0.045112  ],\n",
            "       [ 0.00478998,  0.06661536,  0.00032201, ..., -0.01442863,\n",
            "         0.04808033,  0.04335091]], dtype=float32), array([-0.3774461 ,  0.15753633, -0.2906068 , -0.170826  ,  0.36515367,\n",
            "        0.06032319, -0.36255673,  0.30861756,  0.17877778,  0.16786613,\n",
            "        0.17359065,  0.28279495, -0.2974096 ,  0.07977089,  0.10088949,\n",
            "       -0.30387115,  0.13885683,  0.06079471,  0.11435015,  0.16230392,\n",
            "        0.49166185,  0.01683215, -0.22839998,  0.03944528, -0.11147927,\n",
            "       -0.21214077, -0.2073166 , -0.28191835], dtype=float32)]\n",
            "New Layer\n",
            "10\n",
            "[array([[ 0.49314988, -0.9306466 ,  0.26288423, -0.8463788 , -0.06936192,\n",
            "        -1.5042632 , -0.23698287, -0.49797863, -0.17509682, -0.10842641],\n",
            "       [ 0.3989354 , -0.15530248, -0.03830768, -0.4315158 , -0.49975014,\n",
            "         0.20146118,  0.30664474, -1.0991403 , -0.16211082, -0.5209507 ],\n",
            "       [-0.264628  , -0.06119337, -0.03189248, -0.10653457, -1.4686121 ,\n",
            "         0.41670844, -0.56972295, -0.93807805,  0.32987085, -0.0698623 ],\n",
            "       [-0.62382185,  0.09560627,  0.5681082 ,  0.3892434 , -0.7586258 ,\n",
            "        -0.06305294, -0.33873346,  0.5249078 , -0.10607928, -1.7764252 ],\n",
            "       [-0.6202673 ,  0.84799135, -0.4665113 , -0.09837066,  0.32454717,\n",
            "         0.28696254,  0.41732946, -0.01265461,  0.19340312, -0.5077971 ],\n",
            "       [-0.89632785,  0.43376505, -0.08123858, -1.0313537 ,  0.43809462,\n",
            "        -1.6408352 , -0.39505962,  0.04187531,  0.11342177, -0.9127848 ],\n",
            "       [-0.09365236, -0.44106054,  0.22599627,  0.5704256 ,  0.10825667,\n",
            "        -0.2104644 ,  0.38487998,  0.22426465,  0.41476443,  0.04637848],\n",
            "       [ 0.2806973 , -0.6279593 , -0.6351303 , -0.0611225 ,  0.22746417,\n",
            "         0.09347531, -0.3784097 ,  0.5684423 , -0.5382018 , -0.2635478 ],\n",
            "       [-0.11638309, -0.27727687,  0.429819  , -0.6028994 ,  0.47715303,\n",
            "        -0.594092  , -0.18692668, -0.32062662, -0.12596281, -0.43535337],\n",
            "       [-0.27657846,  0.2033185 , -1.0388626 ,  0.04177638, -0.612818  ,\n",
            "         0.2879044 , -0.4428747 , -0.16393322,  0.38796282, -0.11476352],\n",
            "       [ 0.6446806 , -0.07438584,  0.69197804,  0.04041048, -1.8096616 ,\n",
            "         0.0706669 , -0.30621514,  0.43762   , -1.3222688 , -1.0767007 ],\n",
            "       [-0.03960381,  0.28298032, -0.91319656, -1.2732906 ,  0.06369548,\n",
            "         0.28681073,  0.6283219 , -0.8098838 , -0.37595528,  0.07665149],\n",
            "       [ 0.28188038,  0.53824145,  0.24974042,  0.3709452 , -0.66066915,\n",
            "        -0.49955696, -0.8255635 ,  0.14748287,  0.29685962,  0.04943503],\n",
            "       [-0.05331793, -0.13681038, -0.89725727, -0.26809838,  0.4747526 ,\n",
            "        -0.7999335 , -0.806379  ,  0.18324868, -1.7839621 ,  0.6269278 ],\n",
            "       [-0.29853198, -0.29847243,  0.6054241 , -0.41079804, -0.479404  ,\n",
            "         0.40739062, -1.7376221 ,  0.5803153 , -0.11147869,  0.1478818 ],\n",
            "       [-0.55013305, -0.61068577, -0.03337377,  0.5206672 , -0.12991166,\n",
            "        -1.2212454 , -0.502271  ,  0.086747  ,  0.39834622,  0.41406712],\n",
            "       [-0.49986646,  0.41746408, -0.1648278 , -0.20037036, -0.681403  ,\n",
            "        -1.0952591 ,  0.27411416, -0.09196012, -0.6881551 ,  0.01423479],\n",
            "       [ 0.32634097, -0.7463105 ,  0.12066473, -0.7430114 , -0.05306541,\n",
            "         0.04709679,  0.35910353,  0.09544959,  0.21814567, -0.356081  ],\n",
            "       [-1.7620951 , -0.10996941, -1.8620535 ,  0.6780116 ,  0.53231364,\n",
            "         0.487775  , -1.3771005 , -0.76086664, -1.4877075 ,  0.7490385 ],\n",
            "       [-0.46809006,  0.41210073,  0.07623819,  0.08578876,  0.11987272,\n",
            "        -0.17172469,  0.05625213, -0.35813388, -0.40818697,  0.5160885 ],\n",
            "       [-1.2973238 , -1.2017816 ,  0.2337029 , -0.2690253 ,  0.28126514,\n",
            "         0.18087965, -0.77564263,  0.18755212, -0.775814  , -0.1349691 ],\n",
            "       [-0.6835078 , -0.35702345,  0.4102103 ,  0.33719522,  0.43698412,\n",
            "         0.2973375 , -0.39489138, -0.48976985,  0.08703222, -0.7844567 ],\n",
            "       [ 0.09280553, -1.3346182 , -0.29565918,  0.23632017, -0.2724295 ,\n",
            "        -0.1223656 , -0.22157602, -0.7327768 , -0.5303052 ,  0.23260498],\n",
            "       [-1.2935106 , -0.23213394,  0.7171358 , -0.25012916, -1.2838861 ,\n",
            "         0.31187236, -1.0977279 ,  0.56200576, -0.8489463 , -1.6588852 ],\n",
            "       [ 0.02186996, -0.1428724 , -0.04996486, -0.38301098,  0.4323716 ,\n",
            "        -0.6334632 , -0.5054302 , -0.5607042 ,  0.35362688, -0.0945533 ],\n",
            "       [-0.98127973, -1.0139828 , -0.42059657, -0.18992457, -1.6280808 ,\n",
            "         1.1683538 ,  0.60203433,  0.33545202, -0.1900113 , -0.22005731],\n",
            "       [-0.19060743, -0.71370596, -0.6595147 ,  0.10981268,  0.23302767,\n",
            "        -0.3052837 , -0.7882076 , -0.02787659,  0.40684733,  0.45884973],\n",
            "       [ 0.44606927, -1.2000127 , -0.53796357,  0.18847384, -0.33889478,\n",
            "         0.03755733,  0.42382625, -0.32472596, -0.07031801,  0.30047092]],\n",
            "      dtype=float32), array([-0.25730228,  0.41794538, -0.013387  , -0.32231537,  0.13053827,\n",
            "        0.25084728, -0.06147523,  0.10030937, -0.26659313, -0.11668482],\n",
            "      dtype=float32)]\n"
          ],
          "name": "stdout"
        }
      ]
    },
    {
      "cell_type": "code",
      "metadata": {
        "id": "kxyo3OIl1YHO",
        "colab_type": "code",
        "colab": {}
      },
      "source": [
        ""
      ],
      "execution_count": 0,
      "outputs": []
    }
  ]
}