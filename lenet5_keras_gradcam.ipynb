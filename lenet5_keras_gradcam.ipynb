{
  "nbformat": 4,
  "nbformat_minor": 0,
  "metadata": {
    "colab": {
      "name": "lenet5_keras_gradcam.ipynb",
      "provenance": [],
      "collapsed_sections": []
    },
    "kernelspec": {
      "name": "python3",
      "display_name": "Python 3"
    },
    "accelerator": "GPU"
  },
  "cells": [
    {
      "cell_type": "code",
      "metadata": {
        "id": "k3PlRqHEmmDp",
        "colab_type": "code",
        "outputId": "47f6ae44-339b-46fe-bb5b-33f4f6e72ec5",
        "colab": {
          "base_uri": "https://localhost:8080/",
          "height": 124
        }
      },
      "source": [
        "from google.colab import drive\n",
        "\n",
        "drive.mount('/content/drive')"
      ],
      "execution_count": 0,
      "outputs": [
        {
          "output_type": "stream",
          "text": [
            "Go to this URL in a browser: https://accounts.google.com/o/oauth2/auth?client_id=947318989803-6bn6qk8qdgf4n4g3pfee6491hc0brc4i.apps.googleusercontent.com&redirect_uri=urn%3Aietf%3Awg%3Aoauth%3A2.0%3Aoob&scope=email%20https%3A%2F%2Fwww.googleapis.com%2Fauth%2Fdocs.test%20https%3A%2F%2Fwww.googleapis.com%2Fauth%2Fdrive%20https%3A%2F%2Fwww.googleapis.com%2Fauth%2Fdrive.photos.readonly%20https%3A%2F%2Fwww.googleapis.com%2Fauth%2Fpeopleapi.readonly&response_type=code\n",
            "\n",
            "Enter your authorization code:\n",
            "··········\n",
            "Mounted at /content/drive\n"
          ],
          "name": "stdout"
        }
      ]
    },
    {
      "cell_type": "markdown",
      "metadata": {
        "id": "D_8EEqUrPchB",
        "colab_type": "text"
      },
      "source": [
        "# Import Libraries"
      ]
    },
    {
      "cell_type": "code",
      "metadata": {
        "id": "HNpbe_gtPVSU",
        "colab_type": "code",
        "outputId": "dedc6cbe-7cde-4721-e026-e1a38ca99a20",
        "colab": {
          "base_uri": "https://localhost:8080/",
          "height": 81
        }
      },
      "source": [
        "import numpy as np\n",
        "import pandas as pd\n",
        "import tensorflow as tf\n",
        "import keras\n",
        "import matplotlib.pyplot as plt\n",
        "from keras.models import Sequential,Model\n",
        "from keras.layers import Dense,Conv2D,Flatten,MaxPooling2D,GlobalAveragePooling2D, AveragePooling2D\n",
        "from keras.utils import plot_model\n",
        "import scipy.ndimage\n",
        "import os\n",
        "\n",
        "CURR_DIR = \"/content/drive/My Drive/input_analysis\""
      ],
      "execution_count": 0,
      "outputs": [
        {
          "output_type": "display_data",
          "data": {
            "text/html": [
              "<p style=\"color: red;\">\n",
              "The default version of TensorFlow in Colab will soon switch to TensorFlow 2.x.<br>\n",
              "We recommend you <a href=\"https://www.tensorflow.org/guide/migrate\" target=\"_blank\">upgrade</a> now \n",
              "or ensure your notebook will continue to use TensorFlow 1.x via the <code>%tensorflow_version 1.x</code> magic:\n",
              "<a href=\"https://colab.research.google.com/notebooks/tensorflow_version.ipynb\" target=\"_blank\">more info</a>.</p>\n"
            ],
            "text/plain": [
              "<IPython.core.display.HTML object>"
            ]
          },
          "metadata": {
            "tags": []
          }
        },
        {
          "output_type": "stream",
          "text": [
            "Using TensorFlow backend.\n"
          ],
          "name": "stderr"
        }
      ]
    },
    {
      "cell_type": "markdown",
      "metadata": {
        "id": "wUQPiNszOWKp",
        "colab_type": "text"
      },
      "source": [
        "# Import MNIST"
      ]
    },
    {
      "cell_type": "code",
      "metadata": {
        "id": "8Cdsa9mvOGc7",
        "colab_type": "code",
        "outputId": "ce69f195-76dc-4329-b76d-4b1b067bb576",
        "colab": {
          "base_uri": "https://localhost:8080/",
          "height": 52
        }
      },
      "source": [
        "from keras.datasets import mnist\n",
        "import matplotlib.pyplot as plt\n",
        " \n",
        "(x_train, y_train), (x_test, y_test) = mnist.load_data()"
      ],
      "execution_count": 0,
      "outputs": [
        {
          "output_type": "stream",
          "text": [
            "Downloading data from https://s3.amazonaws.com/img-datasets/mnist.npz\n",
            "11493376/11490434 [==============================] - 0s 0us/step\n"
          ],
          "name": "stdout"
        }
      ]
    },
    {
      "cell_type": "markdown",
      "metadata": {
        "id": "q3EEAvR6UBLe",
        "colab_type": "text"
      },
      "source": [
        "# Reshape the input"
      ]
    },
    {
      "cell_type": "code",
      "metadata": {
        "id": "hHQ7ZnH6T9H5",
        "colab_type": "code",
        "outputId": "9ee95054-1328-4846-a351-9bb490ea5548",
        "colab": {
          "base_uri": "https://localhost:8080/",
          "height": 52
        }
      },
      "source": [
        "x_train = x_train.reshape((x_train.shape[0],x_train.shape[1],x_train.shape[2],1))\n",
        "print(x_train.shape)\n",
        "x_test = x_test.reshape((x_test.shape[0],x_test.shape[1],x_test.shape[2],1))\n",
        "print(x_test.shape)\n",
        "x_train = x_train/255\n",
        "x_test  = x_test/255\n",
        "x_train = x_train.astype('float')\n",
        "x_test  = x_test.astype('float')"
      ],
      "execution_count": 0,
      "outputs": [
        {
          "output_type": "stream",
          "text": [
            "(60000, 28, 28, 1)\n",
            "(10000, 28, 28, 1)\n"
          ],
          "name": "stdout"
        }
      ]
    },
    {
      "cell_type": "markdown",
      "metadata": {
        "id": "E9HizPIrRULy",
        "colab_type": "text"
      },
      "source": [
        "#Increase size of images from 28x28 to 32x32\n"
      ]
    },
    {
      "cell_type": "code",
      "metadata": {
        "id": "jStgO4PgRSZk",
        "colab_type": "code",
        "outputId": "91f918bd-ab7f-4313-b05e-7293927da1f1",
        "colab": {
          "base_uri": "https://localhost:8080/",
          "height": 34
        }
      },
      "source": [
        "x_train = np.pad(x_train, ((0,0),(2,2),(2,2), (0,0)), 'constant')\n",
        "x_test = np.pad(x_test, ((0,0),(2,2),(2,2), (0,0)), 'constant')\n",
        "\n",
        "print(\"Updated Image Shape: {}\".format(x_train.shape))"
      ],
      "execution_count": 0,
      "outputs": [
        {
          "output_type": "stream",
          "text": [
            "Updated Image Shape: (60000, 32, 32, 1)\n"
          ],
          "name": "stdout"
        }
      ]
    },
    {
      "cell_type": "markdown",
      "metadata": {
        "id": "e47UhRjfVdzv",
        "colab_type": "text"
      },
      "source": [
        "# Implement LeNet"
      ]
    },
    {
      "cell_type": "code",
      "metadata": {
        "id": "aV2ApKLYVhOB",
        "colab_type": "code",
        "outputId": "381e01e7-65f1-48ff-d777-232b77e3e791",
        "colab": {
          "base_uri": "https://localhost:8080/",
          "height": 156
        }
      },
      "source": [
        "model = Sequential()\n",
        "\n",
        "model.add(Conv2D(filters=6, kernel_size=(3, 3), activation='relu', input_shape=(32,32,1)))\n",
        "model.add(AveragePooling2D())\n",
        "\n",
        "model.add(Conv2D(filters=16, kernel_size=(3, 3), activation='relu'))\n",
        "\n",
        "#model.add(GlobalAveragePooling2D())\n",
        "# uncomment below and comment above line for actual model\n",
        "#\"\"\"\n",
        "model.add(AveragePooling2D())\n",
        "\n",
        "model.add(Flatten())\n",
        "\n",
        "model.add(Dense(units=120, activation='relu'))\n",
        "\n",
        "model.add(Dense(units=84, activation='relu'))\n",
        "#\"\"\"\n",
        "\n",
        "model.add(Dense(units=10, activation = 'softmax'))"
      ],
      "execution_count": 0,
      "outputs": [
        {
          "output_type": "stream",
          "text": [
            "WARNING:tensorflow:From /usr/local/lib/python3.6/dist-packages/keras/backend/tensorflow_backend.py:66: The name tf.get_default_graph is deprecated. Please use tf.compat.v1.get_default_graph instead.\n",
            "\n",
            "WARNING:tensorflow:From /usr/local/lib/python3.6/dist-packages/keras/backend/tensorflow_backend.py:541: The name tf.placeholder is deprecated. Please use tf.compat.v1.placeholder instead.\n",
            "\n",
            "WARNING:tensorflow:From /usr/local/lib/python3.6/dist-packages/keras/backend/tensorflow_backend.py:4432: The name tf.random_uniform is deprecated. Please use tf.random.uniform instead.\n",
            "\n",
            "WARNING:tensorflow:From /usr/local/lib/python3.6/dist-packages/keras/backend/tensorflow_backend.py:4271: The name tf.nn.avg_pool is deprecated. Please use tf.nn.avg_pool2d instead.\n",
            "\n"
          ],
          "name": "stdout"
        }
      ]
    },
    {
      "cell_type": "markdown",
      "metadata": {
        "id": "QSuss70Cd1sZ",
        "colab_type": "text"
      },
      "source": [
        "#Fit Model"
      ]
    },
    {
      "cell_type": "code",
      "metadata": {
        "id": "75MjRMomdNkk",
        "colab_type": "code",
        "outputId": "8ea049c7-cea9-40aa-e8a5-5c64ba8e3892",
        "colab": {
          "base_uri": "https://localhost:8080/",
          "height": 1000
        }
      },
      "source": [
        "model.summary()\n",
        "model.compile(loss='sparse_categorical_crossentropy',metrics=['accuracy'],optimizer='adam')\n",
        "model.fit(x_train,y_train,batch_size=32,epochs=5,validation_split=0.1,shuffle=True)"
      ],
      "execution_count": 0,
      "outputs": [
        {
          "output_type": "stream",
          "text": [
            "Model: \"sequential_1\"\n",
            "_________________________________________________________________\n",
            "Layer (type)                 Output Shape              Param #   \n",
            "=================================================================\n",
            "conv2d_1 (Conv2D)            (None, 30, 30, 6)         60        \n",
            "_________________________________________________________________\n",
            "average_pooling2d_1 (Average (None, 15, 15, 6)         0         \n",
            "_________________________________________________________________\n",
            "conv2d_2 (Conv2D)            (None, 13, 13, 16)        880       \n",
            "_________________________________________________________________\n",
            "average_pooling2d_2 (Average (None, 6, 6, 16)          0         \n",
            "_________________________________________________________________\n",
            "flatten_1 (Flatten)          (None, 576)               0         \n",
            "_________________________________________________________________\n",
            "dense_1 (Dense)              (None, 120)               69240     \n",
            "_________________________________________________________________\n",
            "dense_2 (Dense)              (None, 84)                10164     \n",
            "_________________________________________________________________\n",
            "dense_3 (Dense)              (None, 10)                850       \n",
            "=================================================================\n",
            "Total params: 81,194\n",
            "Trainable params: 81,194\n",
            "Non-trainable params: 0\n",
            "_________________________________________________________________\n",
            "WARNING:tensorflow:From /usr/local/lib/python3.6/dist-packages/keras/optimizers.py:793: The name tf.train.Optimizer is deprecated. Please use tf.compat.v1.train.Optimizer instead.\n",
            "\n",
            "WARNING:tensorflow:From /usr/local/lib/python3.6/dist-packages/keras/backend/tensorflow_backend.py:3622: The name tf.log is deprecated. Please use tf.math.log instead.\n",
            "\n",
            "WARNING:tensorflow:From /usr/local/lib/python3.6/dist-packages/tensorflow_core/python/ops/math_grad.py:1424: where (from tensorflow.python.ops.array_ops) is deprecated and will be removed in a future version.\n",
            "Instructions for updating:\n",
            "Use tf.where in 2.0, which has the same broadcast rule as np.where\n",
            "WARNING:tensorflow:From /usr/local/lib/python3.6/dist-packages/keras/backend/tensorflow_backend.py:1033: The name tf.assign_add is deprecated. Please use tf.compat.v1.assign_add instead.\n",
            "\n",
            "WARNING:tensorflow:From /usr/local/lib/python3.6/dist-packages/keras/backend/tensorflow_backend.py:1020: The name tf.assign is deprecated. Please use tf.compat.v1.assign instead.\n",
            "\n",
            "WARNING:tensorflow:From /usr/local/lib/python3.6/dist-packages/keras/backend/tensorflow_backend.py:3005: The name tf.Session is deprecated. Please use tf.compat.v1.Session instead.\n",
            "\n",
            "Train on 54000 samples, validate on 6000 samples\n",
            "Epoch 1/5\n",
            "WARNING:tensorflow:From /usr/local/lib/python3.6/dist-packages/keras/backend/tensorflow_backend.py:190: The name tf.get_default_session is deprecated. Please use tf.compat.v1.get_default_session instead.\n",
            "\n",
            "WARNING:tensorflow:From /usr/local/lib/python3.6/dist-packages/keras/backend/tensorflow_backend.py:197: The name tf.ConfigProto is deprecated. Please use tf.compat.v1.ConfigProto instead.\n",
            "\n",
            "WARNING:tensorflow:From /usr/local/lib/python3.6/dist-packages/keras/backend/tensorflow_backend.py:207: The name tf.global_variables is deprecated. Please use tf.compat.v1.global_variables instead.\n",
            "\n",
            "WARNING:tensorflow:From /usr/local/lib/python3.6/dist-packages/keras/backend/tensorflow_backend.py:216: The name tf.is_variable_initialized is deprecated. Please use tf.compat.v1.is_variable_initialized instead.\n",
            "\n",
            "WARNING:tensorflow:From /usr/local/lib/python3.6/dist-packages/keras/backend/tensorflow_backend.py:223: The name tf.variables_initializer is deprecated. Please use tf.compat.v1.variables_initializer instead.\n",
            "\n",
            "54000/54000 [==============================] - 20s 372us/step - loss: 0.2514 - acc: 0.9247 - val_loss: 0.0867 - val_acc: 0.9725\n",
            "Epoch 2/5\n",
            "54000/54000 [==============================] - 12s 231us/step - loss: 0.0809 - acc: 0.9747 - val_loss: 0.0535 - val_acc: 0.9850\n",
            "Epoch 3/5\n",
            "54000/54000 [==============================] - 13s 240us/step - loss: 0.0546 - acc: 0.9828 - val_loss: 0.0533 - val_acc: 0.9845\n",
            "Epoch 4/5\n",
            "54000/54000 [==============================] - 15s 274us/step - loss: 0.0437 - acc: 0.9858 - val_loss: 0.0428 - val_acc: 0.9887\n",
            "Epoch 5/5\n",
            "54000/54000 [==============================] - 13s 248us/step - loss: 0.0351 - acc: 0.9885 - val_loss: 0.0606 - val_acc: 0.9837\n"
          ],
          "name": "stdout"
        },
        {
          "output_type": "execute_result",
          "data": {
            "text/plain": [
              "<keras.callbacks.History at 0x7f446d1ac5c0>"
            ]
          },
          "metadata": {
            "tags": []
          },
          "execution_count": 7
        }
      ]
    },
    {
      "cell_type": "markdown",
      "metadata": {
        "id": "88U3OF13gY5Z",
        "colab_type": "text"
      },
      "source": [
        "#Run model on test data"
      ]
    },
    {
      "cell_type": "code",
      "metadata": {
        "id": "0wqee3W_d7NA",
        "colab_type": "code",
        "outputId": "371fe37e-8b1a-45a9-d4bd-92cb8d723b75",
        "colab": {
          "base_uri": "https://localhost:8080/",
          "height": 469
        }
      },
      "source": [
        "score = model.evaluate(x_test, y_test, verbose=False) \n",
        "model.metrics_names\n",
        "print('Test score: ', score[0])    #Loss on test\n",
        "print('Test accuracy: ', score[1])\n",
        "model.summary()\n",
        "\n",
        "model.save(os.path.join(CURR_DIR, \"lenet.h5\"))"
      ],
      "execution_count": 0,
      "outputs": [
        {
          "output_type": "stream",
          "text": [
            "Test score:  0.05189018197883852\n",
            "Test accuracy:  0.9831\n",
            "Model: \"sequential_1\"\n",
            "_________________________________________________________________\n",
            "Layer (type)                 Output Shape              Param #   \n",
            "=================================================================\n",
            "conv2d_1 (Conv2D)            (None, 30, 30, 6)         60        \n",
            "_________________________________________________________________\n",
            "average_pooling2d_1 (Average (None, 15, 15, 6)         0         \n",
            "_________________________________________________________________\n",
            "conv2d_2 (Conv2D)            (None, 13, 13, 16)        880       \n",
            "_________________________________________________________________\n",
            "average_pooling2d_2 (Average (None, 6, 6, 16)          0         \n",
            "_________________________________________________________________\n",
            "flatten_1 (Flatten)          (None, 576)               0         \n",
            "_________________________________________________________________\n",
            "dense_1 (Dense)              (None, 120)               69240     \n",
            "_________________________________________________________________\n",
            "dense_2 (Dense)              (None, 84)                10164     \n",
            "_________________________________________________________________\n",
            "dense_3 (Dense)              (None, 10)                850       \n",
            "=================================================================\n",
            "Total params: 81,194\n",
            "Trainable params: 81,194\n",
            "Non-trainable params: 0\n",
            "_________________________________________________________________\n"
          ],
          "name": "stdout"
        }
      ]
    },
    {
      "cell_type": "markdown",
      "metadata": {
        "id": "jGxRFLc-hzoM",
        "colab_type": "text"
      },
      "source": [
        "## Context Activation Mapping"
      ]
    },
    {
      "cell_type": "code",
      "metadata": {
        "id": "elc-ElELgNw3",
        "colab_type": "code",
        "colab": {}
      },
      "source": [
        "from keras.models import Model\n",
        "import scipy as sp\n",
        "#gap_weights = model.layers[-1].get_weights()[0]\n",
        "#gap_weights.shape"
      ],
      "execution_count": 0,
      "outputs": []
    },
    {
      "cell_type": "code",
      "metadata": {
        "id": "yAmxuC80yh8t",
        "colab_type": "code",
        "outputId": "431c045f-b5c8-42cf-939c-3fff70625d6b",
        "colab": {
          "base_uri": "https://localhost:8080/",
          "height": 283
        }
      },
      "source": [
        "plt.imshow(np.squeeze(x_test[1],-1))\n",
        "\n",
        "predict = model.predict((x_test[1])[np.newaxis,...])\n",
        "#print(decode_predictions(predict,top=3))\n",
        "target_class = np.argmax(predict[0])\n",
        "print(\"Target Class = %d\"%target_class)"
      ],
      "execution_count": 0,
      "outputs": [
        {
          "output_type": "stream",
          "text": [
            "Target Class = 2\n"
          ],
          "name": "stdout"
        },
        {
          "output_type": "display_data",
          "data": {
            "image/png": "[encoded data removed]",
            "text/plain": [
              "<Figure size 432x288 with 1 Axes>"
            ]
          },
          "metadata": {
            "tags": []
          }
        }
      ]
    },
    {
      "cell_type": "code",
      "metadata": {
        "id": "vrzV9vaEvgO2",
        "colab_type": "code",
        "outputId": "81fd651b-77c9-47c5-d554-048c781af76f",
        "colab": {
          "base_uri": "https://localhost:8080/",
          "height": 283
        }
      },
      "source": [
        "from keras import backend as K\n",
        "from vis.utils import utils\n",
        "import cv2\n",
        "\n",
        "def grad_cam():\n",
        "  print(model.output)\n",
        "  class_output = model.output[:,7]\n",
        "  #print(class_output)\n",
        "\n",
        "  # layer output\n",
        "  convolution_output = model.get_layer('conv2d_2').output\n",
        "\n",
        "  # get gradients\n",
        "  grads = K.gradients(class_output, convolution_output)[0]\n",
        "\n",
        "  # get convolution output and gradients for input\n",
        "  gradient_function = K.function([model.input], [convolution_output, grads])\n",
        "\n",
        "  output, grads_val = gradient_function([(x_test[0])[np.newaxis,...]])\n",
        "  output, grads_val = output[0], grads_val[0]\n",
        "  \n",
        "  weights = np.mean(grads_val, axis=tuple(range(grads_val.ndim-1)))\n",
        "  \n",
        "  cam = np.dot(output, weights)\n",
        "  \n",
        "  # create heat map\n",
        "  x_scale = x_test.shape[1] / cam.shape[0]\n",
        "  y_scale = x_test.shape[2] / cam.shape[1]\n",
        "  cam = scipy.ndimage.zoom(cam, (x_scale,y_scale), order=1)\n",
        "\n",
        "  cam = np.maximum(cam, 0)\n",
        "  cam = cam / np.max(cam)\n",
        "\n",
        "  plt.imshow(cam, cmap = 'jet', alpha = 0.5)\n",
        "  plt.imshow(np.squeeze(x_test[0],-1), cmap = 'gray', alpha = 0.5)\n",
        "  \n",
        "grad_cam()"
      ],
      "execution_count": 0,
      "outputs": [
        {
          "output_type": "stream",
          "text": [
            "Tensor(\"dense_3/Softmax:0\", shape=(?, 10), dtype=float32)\n"
          ],
          "name": "stdout"
        },
        {
          "output_type": "display_data",
          "data": {
            "image/png": "[encoded data removed]",
            "text/plain": [
              "<Figure size 432x288 with 1 Axes>"
            ]
          },
          "metadata": {
            "tags": []
          }
        }
      ]
    },
    {
      "cell_type": "code",
      "metadata": {
        "id": "mQm9G1MD2u93",
        "colab_type": "code",
        "colab": {}
      },
      "source": [
        ""
      ],
      "execution_count": 0,
      "outputs": []
    }
  ]
}