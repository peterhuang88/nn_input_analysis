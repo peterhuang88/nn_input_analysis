{
  "nbformat": 4,
  "nbformat_minor": 0,
  "metadata": {
    "colab": {
      "name": "lenet5-keras.ipynb",
      "provenance": []
    },
    "kernelspec": {
      "name": "python3",
      "display_name": "Python 3"
    },
    "accelerator": "GPU"
  },
  "cells": [
    {
      "cell_type": "markdown",
      "metadata": {
        "id": "D_8EEqUrPchB",
        "colab_type": "text"
      },
      "source": [
        "# Import Libraries"
      ]
    },
    {
      "cell_type": "code",
      "metadata": {
        "id": "HNpbe_gtPVSU",
        "colab_type": "code",
        "colab": {}
      },
      "source": [
        "import numpy as np\n",
        "import pandas as pd\n",
        "import tensorflow as tf\n",
        "import keras\n",
        "import matplotlib.pyplot as plt\n",
        "from keras.models import Sequential,Model\n",
        "from keras.layers import Dense,Conv2D,Flatten,MaxPooling2D,GlobalAveragePooling2D, AveragePooling2D\n",
        "from keras.utils import plot_model\n",
        "import os"
      ],
      "execution_count": 0,
      "outputs": []
    },
    {
      "cell_type": "markdown",
      "metadata": {
        "id": "wUQPiNszOWKp",
        "colab_type": "text"
      },
      "source": [
        "# Import MNIST"
      ]
    },
    {
      "cell_type": "code",
      "metadata": {
        "id": "8Cdsa9mvOGc7",
        "colab_type": "code",
        "colab": {}
      },
      "source": [
        "from keras.datasets import mnist\n",
        "import matplotlib.pyplot as plt\n",
        " \n",
        "(x_train, y_train), (x_test, y_test) = mnist.load_data()"
      ],
      "execution_count": 0,
      "outputs": []
    },
    {
      "cell_type": "markdown",
      "metadata": {
        "id": "q3EEAvR6UBLe",
        "colab_type": "text"
      },
      "source": [
        "# Reshape the input"
      ]
    },
    {
      "cell_type": "code",
      "metadata": {
        "id": "hHQ7ZnH6T9H5",
        "colab_type": "code",
        "outputId": "cd07d116-c545-4c54-ee4e-33c3e27ea68d",
        "colab": {
          "base_uri": "https://localhost:8080/",
          "height": 53
        }
      },
      "source": [
        "x_train = x_train.reshape((x_train.shape[0],x_train.shape[1],x_train.shape[2],1))\n",
        "print(x_train.shape)\n",
        "x_test = x_test.reshape((x_test.shape[0],x_test.shape[1],x_test.shape[2],1))\n",
        "print(x_test.shape)\n",
        "x_train = x_train/255\n",
        "x_test  = x_test/255\n",
        "x_train = x_train.astype('float')\n",
        "x_test  = x_test.astype('float')"
      ],
      "execution_count": 26,
      "outputs": [
        {
          "output_type": "stream",
          "text": [
            "(60000, 28, 28, 1)\n",
            "(10000, 28, 28, 1)\n"
          ],
          "name": "stdout"
        }
      ]
    },
    {
      "cell_type": "markdown",
      "metadata": {
        "id": "E9HizPIrRULy",
        "colab_type": "text"
      },
      "source": [
        "#Increase size of images from 28x28 to 32x32\n"
      ]
    },
    {
      "cell_type": "code",
      "metadata": {
        "id": "jStgO4PgRSZk",
        "colab_type": "code",
        "outputId": "4f37d597-6756-468d-dba8-5dabbd1ae5aa",
        "colab": {
          "base_uri": "https://localhost:8080/",
          "height": 35
        }
      },
      "source": [
        "x_train = np.pad(x_train, ((0,0),(2,2),(2,2), (0,0)), 'constant')\n",
        "x_test = np.pad(x_test, ((0,0),(2,2),(2,2), (0,0)), 'constant')\n",
        "\n",
        "print(\"Updated Image Shape: {}\".format(x_train.shape))"
      ],
      "execution_count": 27,
      "outputs": [
        {
          "output_type": "stream",
          "text": [
            "Updated Image Shape: (60000, 32, 32, 1)\n"
          ],
          "name": "stdout"
        }
      ]
    },
    {
      "cell_type": "markdown",
      "metadata": {
        "id": "e47UhRjfVdzv",
        "colab_type": "text"
      },
      "source": [
        "# Implement LeNet"
      ]
    },
    {
      "cell_type": "code",
      "metadata": {
        "id": "aV2ApKLYVhOB",
        "colab_type": "code",
        "colab": {}
      },
      "source": [
        "model = Sequential()\n",
        "\n",
        "model.add(Conv2D(filters=6, kernel_size=(3, 3), activation='relu', input_shape=(32,32,1)))\n",
        "model.add(AveragePooling2D())\n",
        "\n",
        "model.add(Conv2D(filters=16, kernel_size=(3, 3), activation='relu'))\n",
        "model.add(AveragePooling2D())\n",
        "model.add(GlobalAveragePooling2D())\n",
        "#model.add(Flatten())\n",
        "\n",
        "#model.add(Dense(units=120, activation='relu'))\n",
        "model.add(Dense(units=10, activation='relu'))\n",
        "\n",
        "#model.add(Dense(units=84, activation='relu'))\n",
        "model.add(Dense(units=10, activation='relu'))\n",
        "\n",
        "model.add(Dense(units=10, activation = 'softmax'))"
      ],
      "execution_count": 0,
      "outputs": []
    },
    {
      "cell_type": "markdown",
      "metadata": {
        "id": "QSuss70Cd1sZ",
        "colab_type": "text"
      },
      "source": [
        "#Fit Model"
      ]
    },
    {
      "cell_type": "code",
      "metadata": {
        "id": "75MjRMomdNkk",
        "colab_type": "code",
        "outputId": "df9bacfa-3c01-40c2-d4bf-a24b67cf4d8b",
        "colab": {
          "base_uri": "https://localhost:8080/",
          "height": 660
        }
      },
      "source": [
        "model.summary()\n",
        "model.compile(loss='sparse_categorical_crossentropy',metrics=['accuracy'],optimizer='adam')\n",
        "model.fit(x_train,y_train,batch_size=32,epochs=5,validation_split=0.1,shuffle=True)"
      ],
      "execution_count": 41,
      "outputs": [
        {
          "output_type": "stream",
          "text": [
            "Model: \"sequential_6\"\n",
            "_________________________________________________________________\n",
            "Layer (type)                 Output Shape              Param #   \n",
            "=================================================================\n",
            "conv2d_8 (Conv2D)            (None, 30, 30, 6)         60        \n",
            "_________________________________________________________________\n",
            "average_pooling2d_7 (Average (None, 15, 15, 6)         0         \n",
            "_________________________________________________________________\n",
            "conv2d_9 (Conv2D)            (None, 13, 13, 16)        880       \n",
            "_________________________________________________________________\n",
            "average_pooling2d_8 (Average (None, 6, 6, 16)          0         \n",
            "_________________________________________________________________\n",
            "global_average_pooling2d_2 ( (None, 16)                0         \n",
            "_________________________________________________________________\n",
            "dense_8 (Dense)              (None, 10)                170       \n",
            "_________________________________________________________________\n",
            "dense_9 (Dense)              (None, 10)                110       \n",
            "_________________________________________________________________\n",
            "dense_10 (Dense)             (None, 10)                110       \n",
            "=================================================================\n",
            "Total params: 1,330\n",
            "Trainable params: 1,330\n",
            "Non-trainable params: 0\n",
            "_________________________________________________________________\n",
            "Train on 54000 samples, validate on 6000 samples\n",
            "Epoch 1/5\n",
            "54000/54000 [==============================] - 13s 239us/step - loss: 1.7681 - acc: 0.3269 - val_loss: 1.5098 - val_acc: 0.4258\n",
            "Epoch 2/5\n",
            "54000/54000 [==============================] - 12s 229us/step - loss: 1.3768 - acc: 0.4677 - val_loss: 1.1651 - val_acc: 0.5495\n",
            "Epoch 3/5\n",
            "54000/54000 [==============================] - 12s 231us/step - loss: 1.1018 - acc: 0.5874 - val_loss: 0.9596 - val_acc: 0.6487\n",
            "Epoch 4/5\n",
            "54000/54000 [==============================] - 12s 226us/step - loss: 0.9082 - acc: 0.6873 - val_loss: 0.7575 - val_acc: 0.7628\n",
            "Epoch 5/5\n",
            "54000/54000 [==============================] - 12s 225us/step - loss: 0.7568 - acc: 0.7520 - val_loss: 0.6573 - val_acc: 0.7845\n"
          ],
          "name": "stdout"
        },
        {
          "output_type": "execute_result",
          "data": {
            "text/plain": [
              "<keras.callbacks.History at 0x7f10a8ebaf28>"
            ]
          },
          "metadata": {
            "tags": []
          },
          "execution_count": 41
        }
      ]
    },
    {
      "cell_type": "markdown",
      "metadata": {
        "id": "88U3OF13gY5Z",
        "colab_type": "text"
      },
      "source": [
        "#Run model on test data"
      ]
    },
    {
      "cell_type": "code",
      "metadata": {
        "id": "0wqee3W_d7NA",
        "colab_type": "code",
        "outputId": "7e7454a5-5dd8-4c82-9ef6-f3c7e4a427e0",
        "colab": {
          "base_uri": "https://localhost:8080/",
          "height": 410
        }
      },
      "source": [
        "score = model.evaluate(x_test, y_test, verbose=False) \n",
        "model.metrics_names\n",
        "print('Test score: ', score[0])    #Loss on test\n",
        "print('Test accuracy: ', score[1])\n",
        "model.summary()"
      ],
      "execution_count": 32,
      "outputs": [
        {
          "output_type": "stream",
          "text": [
            "Test score:  0.8052295842170716\n",
            "Test accuracy:  0.7516\n",
            "Model: \"sequential_5\"\n",
            "_________________________________________________________________\n",
            "Layer (type)                 Output Shape              Param #   \n",
            "=================================================================\n",
            "conv2d_6 (Conv2D)            (None, 30, 30, 6)         60        \n",
            "_________________________________________________________________\n",
            "average_pooling2d_5 (Average (None, 15, 15, 6)         0         \n",
            "_________________________________________________________________\n",
            "conv2d_7 (Conv2D)            (None, 13, 13, 16)        880       \n",
            "_________________________________________________________________\n",
            "average_pooling2d_6 (Average (None, 6, 6, 16)          0         \n",
            "_________________________________________________________________\n",
            "global_average_pooling2d_1 ( (None, 16)                0         \n",
            "_________________________________________________________________\n",
            "dense_7 (Dense)              (None, 10)                170       \n",
            "=================================================================\n",
            "Total params: 1,110\n",
            "Trainable params: 1,110\n",
            "Non-trainable params: 0\n",
            "_________________________________________________________________\n"
          ],
          "name": "stdout"
        }
      ]
    },
    {
      "cell_type": "markdown",
      "metadata": {
        "id": "jGxRFLc-hzoM",
        "colab_type": "text"
      },
      "source": [
        "## Context Activation Mapping"
      ]
    },
    {
      "cell_type": "code",
      "metadata": {
        "id": "elc-ElELgNw3",
        "colab_type": "code",
        "colab": {
          "base_uri": "https://localhost:8080/",
          "height": 35
        },
        "outputId": "17918ccf-8223-4c23-b3f3-f94c233312a2"
      },
      "source": [
        "from keras.models import Model\n",
        "import scipy as sp\n",
        "gap_weights = model.layers[-1].get_weights()[0]\n",
        "gap_weights.shape"
      ],
      "execution_count": 33,
      "outputs": [
        {
          "output_type": "execute_result",
          "data": {
            "text/plain": [
              "(16, 10)"
            ]
          },
          "metadata": {
            "tags": []
          },
          "execution_count": 33
        }
      ]
    },
    {
      "cell_type": "code",
      "metadata": {
        "id": "ft72nns5h72-",
        "colab_type": "code",
        "colab": {}
      },
      "source": [
        "cam_model  = Model(inputs=model.input,outputs=(model.layers[-3].output,model.layers[-1].output))"
      ],
      "execution_count": 0,
      "outputs": []
    },
    {
      "cell_type": "code",
      "metadata": {
        "id": "h5y5EG4Fh-VV",
        "colab_type": "code",
        "colab": {
          "base_uri": "https://localhost:8080/",
          "height": 410
        },
        "outputId": "3b86d549-029a-4b26-a8e2-f63e4904491e"
      },
      "source": [
        "cam_model.summary()"
      ],
      "execution_count": 35,
      "outputs": [
        {
          "output_type": "stream",
          "text": [
            "Model: \"model_1\"\n",
            "_________________________________________________________________\n",
            "Layer (type)                 Output Shape              Param #   \n",
            "=================================================================\n",
            "conv2d_6_input (InputLayer)  (None, 32, 32, 1)         0         \n",
            "_________________________________________________________________\n",
            "conv2d_6 (Conv2D)            (None, 30, 30, 6)         60        \n",
            "_________________________________________________________________\n",
            "average_pooling2d_5 (Average (None, 15, 15, 6)         0         \n",
            "_________________________________________________________________\n",
            "conv2d_7 (Conv2D)            (None, 13, 13, 16)        880       \n",
            "_________________________________________________________________\n",
            "average_pooling2d_6 (Average (None, 6, 6, 16)          0         \n",
            "_________________________________________________________________\n",
            "global_average_pooling2d_1 ( (None, 16)                0         \n",
            "_________________________________________________________________\n",
            "dense_7 (Dense)              (None, 10)                170       \n",
            "=================================================================\n",
            "Total params: 1,110\n",
            "Trainable params: 1,110\n",
            "Non-trainable params: 0\n",
            "_________________________________________________________________\n"
          ],
          "name": "stdout"
        }
      ]
    },
    {
      "cell_type": "code",
      "metadata": {
        "id": "ZzZZ3upRh_9G",
        "colab_type": "code",
        "colab": {
          "base_uri": "https://localhost:8080/",
          "height": 35
        },
        "outputId": "b7f7b41e-1008-45cf-f94d-7f5a97c1ae21"
      },
      "source": [
        "features,results = cam_model.predict(x_test)\n",
        "features.shape"
      ],
      "execution_count": 37,
      "outputs": [
        {
          "output_type": "execute_result",
          "data": {
            "text/plain": [
              "(10000, 6, 6, 16)"
            ]
          },
          "metadata": {
            "tags": []
          },
          "execution_count": 37
        }
      ]
    },
    {
      "cell_type": "code",
      "metadata": {
        "id": "GYGPitS_iDG6",
        "colab_type": "code",
        "colab": {
          "base_uri": "https://localhost:8080/",
          "height": 1000
        },
        "outputId": "3e1e1b5b-a88d-4cd1-daf7-53d9c0467e7b"
      },
      "source": [
        "for idx in range(5):\n",
        "  features_for_one_img = features[idx,:,:,:]\n",
        "  pred = np.argmax(results[idx])\n",
        "  cam_features = features_for_one_img\n",
        "    \n",
        "    \n",
        "  plt.figure(facecolor='white')\n",
        "  cam_weights = gap_weights[:,pred]\n",
        "  cam_output  = np.dot(cam_features,cam_weights)\n",
        "\n",
        "  buf = 'Predicted Class = ' +str( pred )+ ', Probability = ' + str(results[idx][pred])\n",
        "  plt.xlabel(buf)\n",
        "\n",
        "  plt.imshow(np.squeeze(x_test[idx],-1), alpha=0.5)\n",
        "\n",
        "  plt.imshow(cam_output, cmap='jet', alpha=0.5)\n",
        "  plt.show()"
      ],
      "execution_count": 39,
      "outputs": [
        {
          "output_type": "display_data",
          "data": {
            "image/png": "[encoded data removed]",
            "text/plain": [
              "<Figure size 432x288 with 1 Axes>"
            ]
          },
          "metadata": {
            "tags": []
          }
        },
        {
          "output_type": "display_data",
          "data": {
            "image/png": "[encoded data removed]",
            "text/plain": [
              "<Figure size 432x288 with 1 Axes>"
            ]
          },
          "metadata": {
            "tags": []
          }
        },
        {
          "output_type": "display_data",
          "data": {
            "image/png": "[encoded data removed]",
            "text/plain": [
              "<Figure size 432x288 with 1 Axes>"
            ]
          },
          "metadata": {
            "tags": []
          }
        },
        {
          "output_type": "display_data",
          "data": {
            "image/png": "[encoded data removed]",
            "text/plain": [
              "<Figure size 432x288 with 1 Axes>"
            ]
          },
          "metadata": {
            "tags": []
          }
        },
        {
          "output_type": "display_data",
          "data": {
            "image/png": "[encoded data removed]",
            "text/plain": [
              "<Figure size 432x288 with 1 Axes>"
            ]
          },
          "metadata": {
            "tags": []
          }
        }
      ]
    },
    {
      "cell_type": "code",
      "metadata": {
        "id": "ezcVf69NiGZU",
        "colab_type": "code",
        "colab": {}
      },
      "source": [
        ""
      ],
      "execution_count": 0,
      "outputs": []
    }
  ]
}