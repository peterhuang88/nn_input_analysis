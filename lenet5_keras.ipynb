{
  "nbformat": 4,
  "nbformat_minor": 0,
  "metadata": {
    "colab": {
      "name": "lenet5_keras.ipynb",
      "provenance": [],
      "collapsed_sections": []
    },
    "kernelspec": {
      "name": "python3",
      "display_name": "Python 3"
    },
    "accelerator": "GPU"
  },
  "cells": [
    {
      "cell_type": "code",
      "metadata": {
        "id": "k3PlRqHEmmDp",
        "colab_type": "code",
        "outputId": "23f39b02-e84e-462a-cfea-b7446e13da3e",
        "colab": {
          "base_uri": "https://localhost:8080/",
          "height": 124
        }
      },
      "source": [
        "from google.colab import drive\n",
        "\n",
        "drive.mount('/content/drive')"
      ],
      "execution_count": 0,
      "outputs": [
        {
          "output_type": "stream",
          "text": [
            "Go to this URL in a browser: https://accounts.google.com/o/oauth2/auth?client_id=947318989803-6bn6qk8qdgf4n4g3pfee6491hc0brc4i.apps.googleusercontent.com&redirect_uri=urn%3aietf%3awg%3aoauth%3a2.0%3aoob&response_type=code&scope=email%20https%3a%2f%2fwww.googleapis.com%2fauth%2fdocs.test%20https%3a%2f%2fwww.googleapis.com%2fauth%2fdrive%20https%3a%2f%2fwww.googleapis.com%2fauth%2fdrive.photos.readonly%20https%3a%2f%2fwww.googleapis.com%2fauth%2fpeopleapi.readonly\n",
            "\n",
            "Enter your authorization code:\n",
            "··········\n",
            "Mounted at /content/drive\n"
          ],
          "name": "stdout"
        }
      ]
    },
    {
      "cell_type": "markdown",
      "metadata": {
        "id": "D_8EEqUrPchB",
        "colab_type": "text"
      },
      "source": [
        "# Import Libraries"
      ]
    },
    {
      "cell_type": "code",
      "metadata": {
        "id": "HNpbe_gtPVSU",
        "colab_type": "code",
        "outputId": "4e63300f-666f-4a4a-a10d-e23055602675",
        "colab": {
          "base_uri": "https://localhost:8080/",
          "height": 81
        }
      },
      "source": [
        "import numpy as np\n",
        "import pandas as pd\n",
        "import tensorflow as tf\n",
        "import keras\n",
        "import matplotlib.pyplot as plt\n",
        "from keras.models import Sequential,Model\n",
        "from keras.layers import Dense,Conv2D,Flatten,MaxPooling2D,GlobalAveragePooling2D, AveragePooling2D\n",
        "from keras.utils import plot_model\n",
        "import scipy.ndimage\n",
        "import os\n",
        "import sys\n",
        "np.set_printoptions(threshold=sys.maxsize)\n",
        "\n",
        "CURR_DIR = \"/content/drive/My Drive/input_analysis\""
      ],
      "execution_count": 0,
      "outputs": [
        {
          "output_type": "display_data",
          "data": {
            "text/html": [
              "<p style=\"color: red;\">\n",
              "The default version of TensorFlow in Colab will soon switch to TensorFlow 2.x.<br>\n",
              "We recommend you <a href=\"https://www.tensorflow.org/guide/migrate\" target=\"_blank\">upgrade</a> now \n",
              "or ensure your notebook will continue to use TensorFlow 1.x via the <code>%tensorflow_version 1.x</code> magic:\n",
              "<a href=\"https://colab.research.google.com/notebooks/tensorflow_version.ipynb\" target=\"_blank\">more info</a>.</p>\n"
            ],
            "text/plain": [
              "<IPython.core.display.HTML object>"
            ]
          },
          "metadata": {
            "tags": []
          }
        },
        {
          "output_type": "stream",
          "text": [
            "Using TensorFlow backend.\n"
          ],
          "name": "stderr"
        }
      ]
    },
    {
      "cell_type": "markdown",
      "metadata": {
        "id": "wUQPiNszOWKp",
        "colab_type": "text"
      },
      "source": [
        "# Import MNIST"
      ]
    },
    {
      "cell_type": "code",
      "metadata": {
        "id": "8Cdsa9mvOGc7",
        "colab_type": "code",
        "outputId": "506684f5-44ca-4667-cd96-a0629490c053",
        "colab": {
          "base_uri": "https://localhost:8080/",
          "height": 52
        }
      },
      "source": [
        "from keras.datasets import mnist\n",
        "import matplotlib.pyplot as plt\n",
        " \n",
        "(x_train, y_train), (x_test, y_test) = mnist.load_data()"
      ],
      "execution_count": 0,
      "outputs": [
        {
          "output_type": "stream",
          "text": [
            "Downloading data from https://s3.amazonaws.com/img-datasets/mnist.npz\n",
            "11493376/11490434 [==============================] - 1s 0us/step\n"
          ],
          "name": "stdout"
        }
      ]
    },
    {
      "cell_type": "markdown",
      "metadata": {
        "id": "q3EEAvR6UBLe",
        "colab_type": "text"
      },
      "source": [
        "# Reshape the input"
      ]
    },
    {
      "cell_type": "code",
      "metadata": {
        "id": "hHQ7ZnH6T9H5",
        "colab_type": "code",
        "outputId": "f7c846f1-bc6f-434f-c036-7e64a51771c5",
        "colab": {
          "base_uri": "https://localhost:8080/",
          "height": 52
        }
      },
      "source": [
        "x_train = x_train.reshape((x_train.shape[0],x_train.shape[1],x_train.shape[2],1))\n",
        "print(x_train.shape)\n",
        "x_test = x_test.reshape((x_test.shape[0],x_test.shape[1],x_test.shape[2],1))\n",
        "print(x_test.shape)\n",
        "x_train = x_train/255\n",
        "x_test  = x_test/255\n",
        "x_train = x_train.astype('float')\n",
        "x_test  = x_test.astype('float')"
      ],
      "execution_count": 0,
      "outputs": [
        {
          "output_type": "stream",
          "text": [
            "(60000, 28, 28, 1)\n",
            "(10000, 28, 28, 1)\n"
          ],
          "name": "stdout"
        }
      ]
    },
    {
      "cell_type": "markdown",
      "metadata": {
        "id": "E9HizPIrRULy",
        "colab_type": "text"
      },
      "source": [
        "#Increase size of images from 28x28 to 32x32\n"
      ]
    },
    {
      "cell_type": "code",
      "metadata": {
        "id": "jStgO4PgRSZk",
        "colab_type": "code",
        "outputId": "48673a87-d294-41e1-db96-638090037210",
        "colab": {
          "base_uri": "https://localhost:8080/",
          "height": 34
        }
      },
      "source": [
        "x_train = np.pad(x_train, ((0,0),(2,2),(2,2), (0,0)), 'constant')\n",
        "x_test = np.pad(x_test, ((0,0),(2,2),(2,2), (0,0)), 'constant')\n",
        "\n",
        "print(\"Updated Image Shape: {}\".format(x_train.shape))"
      ],
      "execution_count": 0,
      "outputs": [
        {
          "output_type": "stream",
          "text": [
            "Updated Image Shape: (60000, 32, 32, 1)\n"
          ],
          "name": "stdout"
        }
      ]
    },
    {
      "cell_type": "markdown",
      "metadata": {
        "id": "e47UhRjfVdzv",
        "colab_type": "text"
      },
      "source": [
        "# Implement LeNet"
      ]
    },
    {
      "cell_type": "code",
      "metadata": {
        "id": "aV2ApKLYVhOB",
        "colab_type": "code",
        "outputId": "51f0e6ef-7106-48c4-f8ee-e6384e7e3924",
        "colab": {
          "base_uri": "https://localhost:8080/",
          "height": 156
        }
      },
      "source": [
        "model = Sequential()\n",
        "\n",
        "model.add(Conv2D(filters=6, kernel_size=(3, 3), activation='relu', input_shape=(32,32,1)))\n",
        "model.add(AveragePooling2D())\n",
        "\n",
        "model.add(Conv2D(filters=16, kernel_size=(3, 3), activation='relu'))\n",
        "\n",
        "model.add(GlobalAveragePooling2D())\n",
        "# uncomment below and comment above line for actual model\n",
        "\"\"\"\n",
        "model.add(AveragePooling2D())\n",
        "\n",
        "model.add(Flatten())\n",
        "\n",
        "model.add(Dense(units=120, activation='relu'))\n",
        "\n",
        "model.add(Dense(units=84, activation='relu'))\n",
        "\"\"\"\n",
        "\n",
        "model.add(Dense(units=10, activation = 'softmax'))"
      ],
      "execution_count": 0,
      "outputs": [
        {
          "output_type": "stream",
          "text": [
            "WARNING:tensorflow:From /usr/local/lib/python3.6/dist-packages/keras/backend/tensorflow_backend.py:66: The name tf.get_default_graph is deprecated. Please use tf.compat.v1.get_default_graph instead.\n",
            "\n",
            "WARNING:tensorflow:From /usr/local/lib/python3.6/dist-packages/keras/backend/tensorflow_backend.py:541: The name tf.placeholder is deprecated. Please use tf.compat.v1.placeholder instead.\n",
            "\n",
            "WARNING:tensorflow:From /usr/local/lib/python3.6/dist-packages/keras/backend/tensorflow_backend.py:4432: The name tf.random_uniform is deprecated. Please use tf.random.uniform instead.\n",
            "\n",
            "WARNING:tensorflow:From /usr/local/lib/python3.6/dist-packages/keras/backend/tensorflow_backend.py:4271: The name tf.nn.avg_pool is deprecated. Please use tf.nn.avg_pool2d instead.\n",
            "\n"
          ],
          "name": "stdout"
        }
      ]
    },
    {
      "cell_type": "markdown",
      "metadata": {
        "id": "QSuss70Cd1sZ",
        "colab_type": "text"
      },
      "source": [
        "#Fit Model"
      ]
    },
    {
      "cell_type": "code",
      "metadata": {
        "id": "75MjRMomdNkk",
        "colab_type": "code",
        "outputId": "f469d3d7-4f53-449a-9a7f-97f81ffe0aa9",
        "colab": {
          "base_uri": "https://localhost:8080/",
          "height": 937
        }
      },
      "source": [
        "model.summary()\n",
        "model.compile(loss='sparse_categorical_crossentropy',metrics=['accuracy'],optimizer='adam')\n",
        "model.fit(x_train,y_train,batch_size=32,epochs=5,validation_split=0.1,shuffle=True)"
      ],
      "execution_count": 0,
      "outputs": [
        {
          "output_type": "stream",
          "text": [
            "Model: \"sequential_1\"\n",
            "_________________________________________________________________\n",
            "Layer (type)                 Output Shape              Param #   \n",
            "=================================================================\n",
            "conv2d_1 (Conv2D)            (None, 30, 30, 6)         60        \n",
            "_________________________________________________________________\n",
            "average_pooling2d_1 (Average (None, 15, 15, 6)         0         \n",
            "_________________________________________________________________\n",
            "conv2d_2 (Conv2D)            (None, 13, 13, 16)        880       \n",
            "_________________________________________________________________\n",
            "global_average_pooling2d_1 ( (None, 16)                0         \n",
            "_________________________________________________________________\n",
            "dense_1 (Dense)              (None, 10)                170       \n",
            "=================================================================\n",
            "Total params: 1,110\n",
            "Trainable params: 1,110\n",
            "Non-trainable params: 0\n",
            "_________________________________________________________________\n",
            "WARNING:tensorflow:From /usr/local/lib/python3.6/dist-packages/keras/optimizers.py:793: The name tf.train.Optimizer is deprecated. Please use tf.compat.v1.train.Optimizer instead.\n",
            "\n",
            "WARNING:tensorflow:From /usr/local/lib/python3.6/dist-packages/keras/backend/tensorflow_backend.py:3622: The name tf.log is deprecated. Please use tf.math.log instead.\n",
            "\n",
            "WARNING:tensorflow:From /usr/local/lib/python3.6/dist-packages/tensorflow_core/python/ops/math_grad.py:1424: where (from tensorflow.python.ops.array_ops) is deprecated and will be removed in a future version.\n",
            "Instructions for updating:\n",
            "Use tf.where in 2.0, which has the same broadcast rule as np.where\n",
            "WARNING:tensorflow:From /usr/local/lib/python3.6/dist-packages/keras/backend/tensorflow_backend.py:1033: The name tf.assign_add is deprecated. Please use tf.compat.v1.assign_add instead.\n",
            "\n",
            "WARNING:tensorflow:From /usr/local/lib/python3.6/dist-packages/keras/backend/tensorflow_backend.py:1020: The name tf.assign is deprecated. Please use tf.compat.v1.assign instead.\n",
            "\n",
            "WARNING:tensorflow:From /usr/local/lib/python3.6/dist-packages/keras/backend/tensorflow_backend.py:3005: The name tf.Session is deprecated. Please use tf.compat.v1.Session instead.\n",
            "\n",
            "Train on 54000 samples, validate on 6000 samples\n",
            "Epoch 1/5\n",
            "WARNING:tensorflow:From /usr/local/lib/python3.6/dist-packages/keras/backend/tensorflow_backend.py:190: The name tf.get_default_session is deprecated. Please use tf.compat.v1.get_default_session instead.\n",
            "\n",
            "WARNING:tensorflow:From /usr/local/lib/python3.6/dist-packages/keras/backend/tensorflow_backend.py:197: The name tf.ConfigProto is deprecated. Please use tf.compat.v1.ConfigProto instead.\n",
            "\n",
            "WARNING:tensorflow:From /usr/local/lib/python3.6/dist-packages/keras/backend/tensorflow_backend.py:207: The name tf.global_variables is deprecated. Please use tf.compat.v1.global_variables instead.\n",
            "\n",
            "WARNING:tensorflow:From /usr/local/lib/python3.6/dist-packages/keras/backend/tensorflow_backend.py:216: The name tf.is_variable_initialized is deprecated. Please use tf.compat.v1.is_variable_initialized instead.\n",
            "\n",
            "WARNING:tensorflow:From /usr/local/lib/python3.6/dist-packages/keras/backend/tensorflow_backend.py:223: The name tf.variables_initializer is deprecated. Please use tf.compat.v1.variables_initializer instead.\n",
            "\n",
            "54000/54000 [==============================] - 16s 299us/step - loss: 1.8847 - acc: 0.3116 - val_loss: 1.5908 - val_acc: 0.4270\n",
            "Epoch 2/5\n",
            "54000/54000 [==============================] - 10s 177us/step - loss: 1.5205 - acc: 0.4633 - val_loss: 1.3676 - val_acc: 0.5420\n",
            "Epoch 3/5\n",
            "54000/54000 [==============================] - 10s 178us/step - loss: 1.3351 - acc: 0.5464 - val_loss: 1.1887 - val_acc: 0.6178\n",
            "Epoch 4/5\n",
            "54000/54000 [==============================] - 10s 178us/step - loss: 1.1892 - acc: 0.6082 - val_loss: 1.0415 - val_acc: 0.6872\n",
            "Epoch 5/5\n",
            "54000/54000 [==============================] - 10s 180us/step - loss: 1.0567 - acc: 0.6687 - val_loss: 0.9007 - val_acc: 0.7373\n"
          ],
          "name": "stdout"
        },
        {
          "output_type": "execute_result",
          "data": {
            "text/plain": [
              "<keras.callbacks.History at 0x7ff691eed710>"
            ]
          },
          "metadata": {
            "tags": []
          },
          "execution_count": 7
        }
      ]
    },
    {
      "cell_type": "markdown",
      "metadata": {
        "id": "88U3OF13gY5Z",
        "colab_type": "text"
      },
      "source": [
        "#Run model on test data"
      ]
    },
    {
      "cell_type": "code",
      "metadata": {
        "id": "0wqee3W_d7NA",
        "colab_type": "code",
        "outputId": "b2c7abe0-ce07-4986-cfae-e90e3054f806",
        "colab": {
          "base_uri": "https://localhost:8080/",
          "height": 364
        }
      },
      "source": [
        "score = model.evaluate(x_test, y_test, verbose=False) \n",
        "model.metrics_names\n",
        "print('Test score: ', score[0])    #Loss on test\n",
        "print('Test accuracy: ', score[1])\n",
        "model.summary()\n",
        "\n",
        "model.save(os.path.join(CURR_DIR, \"lenet_truncated.h5\"))"
      ],
      "execution_count": 0,
      "outputs": [
        {
          "output_type": "stream",
          "text": [
            "Test score:  0.9413778934478759\n",
            "Test accuracy:  0.6973\n",
            "Model: \"sequential_1\"\n",
            "_________________________________________________________________\n",
            "Layer (type)                 Output Shape              Param #   \n",
            "=================================================================\n",
            "conv2d_1 (Conv2D)            (None, 30, 30, 6)         60        \n",
            "_________________________________________________________________\n",
            "average_pooling2d_1 (Average (None, 15, 15, 6)         0         \n",
            "_________________________________________________________________\n",
            "conv2d_2 (Conv2D)            (None, 13, 13, 16)        880       \n",
            "_________________________________________________________________\n",
            "global_average_pooling2d_1 ( (None, 16)                0         \n",
            "_________________________________________________________________\n",
            "dense_1 (Dense)              (None, 10)                170       \n",
            "=================================================================\n",
            "Total params: 1,110\n",
            "Trainable params: 1,110\n",
            "Non-trainable params: 0\n",
            "_________________________________________________________________\n"
          ],
          "name": "stdout"
        }
      ]
    },
    {
      "cell_type": "markdown",
      "metadata": {
        "id": "jGxRFLc-hzoM",
        "colab_type": "text"
      },
      "source": [
        "## Context Activation Mapping"
      ]
    },
    {
      "cell_type": "code",
      "metadata": {
        "id": "elc-ElELgNw3",
        "colab_type": "code",
        "colab": {}
      },
      "source": [
        "from keras.models import Model\n",
        "import scipy as sp\n",
        "#gap_weights = model.layers[-1].get_weights()[0]\n",
        "#gap_weights.shape"
      ],
      "execution_count": 0,
      "outputs": []
    },
    {
      "cell_type": "code",
      "metadata": {
        "id": "iCBmts4TueAr",
        "colab_type": "code",
        "outputId": "c4adf839-1f97-4f25-e4de-9e152259e2dd",
        "colab": {
          "base_uri": "https://localhost:8080/",
          "height": 280
        }
      },
      "source": [
        "def cam():\n",
        "  gap_weights = model.layers[-1].get_weights()[0]\n",
        "  cam_model = Model(inputs=model.input,outputs=(model.layers[-3].output,model.layers[-1].output))\n",
        "  features,results = cam_model.predict(x_test)\n",
        "\n",
        "  for idx in range(5):\n",
        "    features_for_one_img = features[idx,:,:,:]\n",
        "    #print(features_for_one_img.shape)\n",
        "    pred = np.argmax(results[idx])\n",
        "    # cam_features = features_for_one_img\n",
        "    x_scale = x_train.shape[1] / features_for_one_img.shape[0]\n",
        "    y_scale = x_train.shape[2] / features_for_one_img.shape[1]\n",
        "    #cam_features = scipy.ndimage.zoom(features_for_one_img, (32,32,1), order=1)\n",
        "    # print(features_for_one_img.shape)\n",
        "    cam_features = scipy.ndimage.zoom(features_for_one_img, (x_scale,y_scale,1), order=1)\n",
        "\n",
        "    \n",
        "    plt.figure(facecolor='white')\n",
        "    cam_weights = gap_weights[:,pred]\n",
        "    cam_output  = np.dot(cam_features,cam_weights)\n",
        "\n",
        "    # print(cam_output)\n",
        "\n",
        "    buf = 'Predicted Class = ' +str( pred )+ ', Probability = ' + str(results[idx][pred])\n",
        "    plt.xlabel(buf)\n",
        "    plt.imshow(np.squeeze(x_test[idx],-1),alpha=0.5, cmap='gray')\n",
        "    plt.imshow(cam_output, cmap='jet', alpha=0.5)\n",
        "    #plt.imshow(cam_output, cmap='jet')\n",
        "    \n",
        "    plt.show()\n",
        "    break\n",
        "\n",
        "cam()"
      ],
      "execution_count": 0,
      "outputs": [
        {
          "output_type": "display_data",
          "data": {
            "image/png": "[encoded data removed]",
            "text/plain": [
              "<Figure size 432x288 with 1 Axes>"
            ]
          },
          "metadata": {
            "tags": []
          }
        }
      ]
    },
    {
      "cell_type": "code",
      "metadata": {
        "id": "vrzV9vaEvgO2",
        "colab_type": "code",
        "outputId": "fea3d44c-5262-4021-aba7-5c8559101cff",
        "colab": {
          "base_uri": "https://localhost:8080/",
          "height": 334
        }
      },
      "source": [
        "from keras import backend as K\n",
        "from vis.utils import utils\n",
        "import cv2\n",
        "\n",
        "def grad_cam():\n",
        "  class_output = model.output[:, 7]\n",
        "\n",
        "  # layer output\n",
        "  convolution_output = model.get_layer('conv2d_6').output\n",
        "\n",
        "  # get gradients\n",
        "  grads = K.gradients(class_output, convolution_output)[0]\n",
        "\n",
        "  # get convolution output and gradients for input\n",
        "  gradient_function = K.function([model.input], [convolution_output, grads])\n",
        "\n",
        "  print(x_test[0].shape)\n",
        "  # output, grads_val = gradient_function([x_test[0]])\n",
        "  output, grads_val = gradient_function([(x_test[0])[np.newaxis,...]])\n",
        "  output, grads_val = output[0], grads_val[0]\n",
        "\n",
        "  #print(output)\n",
        "  #rint(grads_val)\n",
        "  weights = np.mean(grads_val, axis=(0, 1))\n",
        "  cam = np.dot(output, weights)\n",
        "\n",
        "  print(cam.shape)\n",
        "  print(x_test.shape[1])\n",
        "  print(x_test.shape[2])\n",
        "\n",
        "  # create heat map\n",
        "  x_scale = x_test.shape[1] / cam.shape[0]\n",
        "  y_scale = x_test.shape[2] / cam.shape[1]\n",
        "  cam = scipy.ndimage.zoom(cam, (x_scale,y_scale), order=1)\n",
        "\n",
        "  #cam = np.maximum(cam, 0)\n",
        "  #heatmap = cam / np.max(cam)\n",
        "\n",
        "  # Return to BGR [0..255] from the preprocessed image\n",
        "  #image_rgb = (x_test[0])[0, :]\n",
        "  #image_rgb -= np.min(image_rgb)\n",
        "  #image_rgb = np.minimum(image_rgb, 255)\n",
        "\n",
        "  \n",
        "  #cam = cv2.applyColorMap(np.uint8(255 * heatmap), cv2.COLORMAP_JET)\n",
        "  #cam = np.float32(cam) + np.float32(image_rgb)\n",
        "  #cam = 255 * cam / np.max(cam)\n",
        "\n",
        "  plt.imshow(cam, cmap = 'jet')\n",
        "  # plt.imshow(heatmap)\n",
        "  \n",
        "grad_cam()"
      ],
      "execution_count": 0,
      "outputs": [
        {
          "output_type": "stream",
          "text": [
            "(32, 32, 1)\n",
            "(13, 13)\n",
            "32\n",
            "32\n"
          ],
          "name": "stdout"
        },
        {
          "output_type": "display_data",
          "data": {
            "image/png": "[encoded data removed]",
            "text/plain": [
              "<Figure size 432x288 with 1 Axes>"
            ]
          },
          "metadata": {
            "tags": []
          }
        }
      ]
    },
    {
      "cell_type": "code",
      "metadata": {
        "id": "mQm9G1MD2u93",
        "colab_type": "code",
        "outputId": "9b7446a9-a641-448d-c16d-e1eb1434ac4c",
        "colab": {
          "base_uri": "https://localhost:8080/",
          "height": 289
        }
      },
      "source": [
        "!nvidia-smi"
      ],
      "execution_count": 0,
      "outputs": [
        {
          "output_type": "stream",
          "text": [
            "Tue Nov 12 16:20:45 2019       \n",
            "+-----------------------------------------------------------------------------+\n",
            "| NVIDIA-SMI 430.50       Driver Version: 418.67       CUDA Version: 10.1     |\n",
            "|-------------------------------+----------------------+----------------------+\n",
            "| GPU  Name        Persistence-M| Bus-Id        Disp.A | Volatile Uncorr. ECC |\n",
            "| Fan  Temp  Perf  Pwr:Usage/Cap|         Memory-Usage | GPU-Util  Compute M. |\n",
            "|===============================+======================+======================|\n",
            "|   0  Tesla P100-PCIE...  Off  | 00000000:00:04.0 Off |                    0 |\n",
            "| N/A   35C    P0    31W / 250W |    611MiB / 16280MiB |      0%      Default |\n",
            "+-------------------------------+----------------------+----------------------+\n",
            "                                                                               \n",
            "+-----------------------------------------------------------------------------+\n",
            "| Processes:                                                       GPU Memory |\n",
            "|  GPU       PID   Type   Process name                             Usage      |\n",
            "|=============================================================================|\n",
            "+-----------------------------------------------------------------------------+\n"
          ],
          "name": "stdout"
        }
      ]
    },
    {
      "cell_type": "code",
      "metadata": {
        "id": "7s-TB72mb7n9",
        "colab_type": "code",
        "colab": {}
      },
      "source": [
        ""
      ],
      "execution_count": 0,
      "outputs": []
    }
  ]
}